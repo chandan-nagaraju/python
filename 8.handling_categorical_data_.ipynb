{
  "nbformat": 4,
  "nbformat_minor": 0,
  "metadata": {
    "colab": {
      "name": "handling categorical data .ipynb",
      "provenance": [],
      "authorship_tag": "ABX9TyNmJe8FNh5QK82mpBQiNwSL",
      "include_colab_link": true
    },
    "kernelspec": {
      "name": "python3",
      "display_name": "Python 3"
    }
  },
  "cells": [
    {
      "cell_type": "markdown",
      "metadata": {
        "id": "view-in-github",
        "colab_type": "text"
      },
      "source": [
        "<a href=\"https://colab.research.google.com/github/chandan-nagaraju/python/blob/main/handling_categorical_data_.ipynb\" target=\"_parent\"><img src=\"https://colab.research.google.com/assets/colab-badge.svg\" alt=\"Open In Colab\"/></a>"
      ]
    },
    {
      "cell_type": "markdown",
      "metadata": {
        "id": "itxvHXKW5xRX"
      },
      "source": [
        "*Sets of categories with no intrinsic ordering is\r\n",
        "called nominal\r\n",
        "\r\n",
        "\r\n",
        "categorical information is often represented in data as a vector or col‐\r\n",
        "umn of strings (e.g., \"Maine\", \"Texas\", \"Delaware\"). The problem is that most\r\n",
        "machine learning algorithms require inputs be numerical values\r\n"
      ]
    },
    {
      "cell_type": "markdown",
      "metadata": {
        "id": "Ftfs1PGd6GeE"
      },
      "source": [
        "##1Encoding Nominal Categorical Features"
      ]
    },
    {
      "cell_type": "code",
      "metadata": {
        "id": "3v_NHooh6Ft3"
      },
      "source": [
        "import numpy as np\r\n",
        "from sklearn.preprocessing import LabelBinarizer, MultiLabelBinarizer"
      ],
      "execution_count": 1,
      "outputs": []
    },
    {
      "cell_type": "code",
      "metadata": {
        "id": "e5ERkOi16cCe"
      },
      "source": [
        "feature = np.array([[\"Texas\"],\r\n",
        " [\"California\"],\r\n",
        " [\"Texas\"],\r\n",
        " [\"Delaware\"],\r\n",
        " [\"Texas\"]])"
      ],
      "execution_count": 2,
      "outputs": []
    },
    {
      "cell_type": "code",
      "metadata": {
        "id": "3g9AtGY46g6O"
      },
      "source": [
        "one_hot=LabelBinarizer()"
      ],
      "execution_count": 3,
      "outputs": []
    },
    {
      "cell_type": "code",
      "metadata": {
        "colab": {
          "base_uri": "https://localhost:8080/"
        },
        "id": "S9xh9b0R6kPa",
        "outputId": "08552955-7b02-4d8d-a6ec-c5e12175d038"
      },
      "source": [
        "one_hot.fit_transform(feature)"
      ],
      "execution_count": 4,
      "outputs": [
        {
          "output_type": "execute_result",
          "data": {
            "text/plain": [
              "array([[0, 0, 1],\n",
              "       [1, 0, 0],\n",
              "       [0, 0, 1],\n",
              "       [0, 1, 0],\n",
              "       [0, 0, 1]])"
            ]
          },
          "metadata": {
            "tags": []
          },
          "execution_count": 4
        }
      ]
    },
    {
      "cell_type": "code",
      "metadata": {
        "colab": {
          "base_uri": "https://localhost:8080/"
        },
        "id": "pCDAhD5d6oBk",
        "outputId": "ed41c6a0-c8d8-4d7a-cb7c-d1de1ba84b2c"
      },
      "source": [
        "#to view freature classes\r\n",
        "one_hot.classes_"
      ],
      "execution_count": 5,
      "outputs": [
        {
          "output_type": "execute_result",
          "data": {
            "text/plain": [
              "array(['California', 'Delaware', 'Texas'], dtype='<U10')"
            ]
          },
          "metadata": {
            "tags": []
          },
          "execution_count": 5
        }
      ]
    },
    {
      "cell_type": "code",
      "metadata": {
        "colab": {
          "base_uri": "https://localhost:8080/"
        },
        "id": "dpZsRPFr6sL4",
        "outputId": "8bf9f485-9147-4262-e587-1c1b46627ded"
      },
      "source": [
        "#to reverse one hot encoding \r\n",
        "one_hot.inverse_transform(one_hot.transform(feature))"
      ],
      "execution_count": 6,
      "outputs": [
        {
          "output_type": "execute_result",
          "data": {
            "text/plain": [
              "array(['Texas', 'California', 'Texas', 'Delaware', 'Texas'], dtype='<U10')"
            ]
          },
          "metadata": {
            "tags": []
          },
          "execution_count": 6
        }
      ]
    },
    {
      "cell_type": "markdown",
      "metadata": {
        "id": "6wQTfX5O7BYl"
      },
      "source": [
        "We can even use pandas to one-hot encode the feature"
      ]
    },
    {
      "cell_type": "code",
      "metadata": {
        "id": "joKqV_kW691V"
      },
      "source": [
        "import pandas as pd"
      ],
      "execution_count": 7,
      "outputs": []
    },
    {
      "cell_type": "code",
      "metadata": {
        "colab": {
          "base_uri": "https://localhost:8080/",
          "height": 204
        },
        "id": "SXKbTJmt7FSE",
        "outputId": "71133c56-203f-4d41-c424-6ff479cd5647"
      },
      "source": [
        "pd.get_dummies(feature[:,0])"
      ],
      "execution_count": 9,
      "outputs": [
        {
          "output_type": "execute_result",
          "data": {
            "text/html": [
              "<div>\n",
              "<style scoped>\n",
              "    .dataframe tbody tr th:only-of-type {\n",
              "        vertical-align: middle;\n",
              "    }\n",
              "\n",
              "    .dataframe tbody tr th {\n",
              "        vertical-align: top;\n",
              "    }\n",
              "\n",
              "    .dataframe thead th {\n",
              "        text-align: right;\n",
              "    }\n",
              "</style>\n",
              "<table border=\"1\" class=\"dataframe\">\n",
              "  <thead>\n",
              "    <tr style=\"text-align: right;\">\n",
              "      <th></th>\n",
              "      <th>California</th>\n",
              "      <th>Delaware</th>\n",
              "      <th>Texas</th>\n",
              "    </tr>\n",
              "  </thead>\n",
              "  <tbody>\n",
              "    <tr>\n",
              "      <th>0</th>\n",
              "      <td>0</td>\n",
              "      <td>0</td>\n",
              "      <td>1</td>\n",
              "    </tr>\n",
              "    <tr>\n",
              "      <th>1</th>\n",
              "      <td>1</td>\n",
              "      <td>0</td>\n",
              "      <td>0</td>\n",
              "    </tr>\n",
              "    <tr>\n",
              "      <th>2</th>\n",
              "      <td>0</td>\n",
              "      <td>0</td>\n",
              "      <td>1</td>\n",
              "    </tr>\n",
              "    <tr>\n",
              "      <th>3</th>\n",
              "      <td>0</td>\n",
              "      <td>1</td>\n",
              "      <td>0</td>\n",
              "    </tr>\n",
              "    <tr>\n",
              "      <th>4</th>\n",
              "      <td>0</td>\n",
              "      <td>0</td>\n",
              "      <td>1</td>\n",
              "    </tr>\n",
              "  </tbody>\n",
              "</table>\n",
              "</div>"
            ],
            "text/plain": [
              "   California  Delaware  Texas\n",
              "0           0         0      1\n",
              "1           1         0      0\n",
              "2           0         0      1\n",
              "3           0         1      0\n",
              "4           0         0      1"
            ]
          },
          "metadata": {
            "tags": []
          },
          "execution_count": 9
        }
      ]
    },
    {
      "cell_type": "markdown",
      "metadata": {
        "id": "Clb6Lo737ZHG"
      },
      "source": [
        "## For multi class feature"
      ]
    },
    {
      "cell_type": "code",
      "metadata": {
        "id": "C7Wb2nFv7M4u"
      },
      "source": [
        "multiclass_feature = [(\"Texas\", \"Florida\"),\r\n",
        " (\"California\", \"Alabama\"),\r\n",
        " (\"Texas\", \"Florida\"),\r\n",
        " (\"Delware\", \"Florida\"),\r\n",
        " (\"Texas\", \"Alabama\")]"
      ],
      "execution_count": 10,
      "outputs": []
    },
    {
      "cell_type": "code",
      "metadata": {
        "id": "KAJY5Flm7eBy"
      },
      "source": [
        "one_hot_multiclass=MultiLabelBinarizer()"
      ],
      "execution_count": 11,
      "outputs": []
    },
    {
      "cell_type": "code",
      "metadata": {
        "colab": {
          "base_uri": "https://localhost:8080/"
        },
        "id": "uWoEOvbx7ipk",
        "outputId": "06f02bed-7269-4557-9ea8-647b6f5f1900"
      },
      "source": [
        "one_hot_multiclass.fit_transform(multiclass_feature)"
      ],
      "execution_count": 12,
      "outputs": [
        {
          "output_type": "execute_result",
          "data": {
            "text/plain": [
              "array([[0, 0, 0, 1, 1],\n",
              "       [1, 1, 0, 0, 0],\n",
              "       [0, 0, 0, 1, 1],\n",
              "       [0, 0, 1, 1, 0],\n",
              "       [1, 0, 0, 0, 1]])"
            ]
          },
          "metadata": {
            "tags": []
          },
          "execution_count": 12
        }
      ]
    },
    {
      "cell_type": "code",
      "metadata": {
        "colab": {
          "base_uri": "https://localhost:8080/"
        },
        "id": "-zhFOAmj7nDV",
        "outputId": "c4a98172-efe4-4c02-bdb0-56c0dba424c6"
      },
      "source": [
        "one_hot_multiclass.classes_"
      ],
      "execution_count": 14,
      "outputs": [
        {
          "output_type": "execute_result",
          "data": {
            "text/plain": [
              "array(['Alabama', 'California', 'Delware', 'Florida', 'Texas'],\n",
              "      dtype=object)"
            ]
          },
          "metadata": {
            "tags": []
          },
          "execution_count": 14
        }
      ]
    },
    {
      "cell_type": "markdown",
      "metadata": {
        "id": "teu384a-8INR"
      },
      "source": [
        "## one-hot encoding or dummying\r\n",
        "The proper strategy is to create a binary feature for each class in the original feature.\r\n"
      ]
    },
    {
      "cell_type": "markdown",
      "metadata": {
        "id": "aj9row7o86wG"
      },
      "source": [
        "# *In contrast, when a set of categories has some natural ordering we refer to it as ordinal\r\n",
        "\r\n",
        "#2Encoding Ordinal Categorical Features"
      ]
    },
    {
      "cell_type": "code",
      "metadata": {
        "id": "346RRmVC7qnz"
      },
      "source": [
        "df=pd.DataFrame({\"Score\": [\"Low\", \"Low\", \"Medium\", \"Medium\", \"High\"]})"
      ],
      "execution_count": 17,
      "outputs": []
    },
    {
      "cell_type": "code",
      "metadata": {
        "id": "6znFDxUR774E"
      },
      "source": [
        "scale_mapper={\"Low\":1,\r\n",
        "              \"Medium\":2,\r\n",
        "              \"High\":3}"
      ],
      "execution_count": 18,
      "outputs": []
    },
    {
      "cell_type": "code",
      "metadata": {
        "colab": {
          "base_uri": "https://localhost:8080/"
        },
        "id": "DVDbJZO69huh",
        "outputId": "d5c3b6cb-3e74-4f29-eb3e-6f31022a34a7"
      },
      "source": [
        "df['Score'].replace(scale_mapper)"
      ],
      "execution_count": 19,
      "outputs": [
        {
          "output_type": "execute_result",
          "data": {
            "text/plain": [
              "0    1\n",
              "1    1\n",
              "2    2\n",
              "3    2\n",
              "4    3\n",
              "Name: Score, dtype: int64"
            ]
          },
          "metadata": {
            "tags": []
          },
          "execution_count": 19
        }
      ]
    },
    {
      "cell_type": "code",
      "metadata": {
        "id": "AvG-C17W9ood"
      },
      "source": [
        "#example-2\r\n",
        "df1=pd.DataFrame({\"Score\": [\"Low\",\r\n",
        " \"Low\",\r\n",
        "\"Medium\",\r\n",
        "\"Medium\",\r\n",
        "\"High\",\r\n",
        "\"Barely More Than Medium\"]})"
      ],
      "execution_count": 23,
      "outputs": []
    },
    {
      "cell_type": "code",
      "metadata": {
        "id": "AJhzV5La-F-E"
      },
      "source": [
        "scale_mapper={\"Low\":1,\r\n",
        "              \"Medium\":2,\r\n",
        "              \"Barely More Than Medium\":3,\r\n",
        "              \"High\":4}"
      ],
      "execution_count": 21,
      "outputs": []
    },
    {
      "cell_type": "code",
      "metadata": {
        "colab": {
          "base_uri": "https://localhost:8080/"
        },
        "id": "YAgWUJK0-OZK",
        "outputId": "4c1d9b40-a9a9-4571-dfb3-3ac33b96d375"
      },
      "source": [
        "df1['Score'].replace(scale_mapper)"
      ],
      "execution_count": 22,
      "outputs": [
        {
          "output_type": "execute_result",
          "data": {
            "text/plain": [
              "0    1\n",
              "1    1\n",
              "2    2\n",
              "3    2\n",
              "4    4\n",
              "5    3\n",
              "Name: Score, dtype: int64"
            ]
          },
          "metadata": {
            "tags": []
          },
          "execution_count": 22
        }
      ]
    },
    {
      "cell_type": "markdown",
      "metadata": {
        "id": "c6UBp5eh-dW5"
      },
      "source": [
        "#3 Encoding Dictionaries of Features"
      ]
    },
    {
      "cell_type": "code",
      "metadata": {
        "id": "p0-jpqTn-TR4"
      },
      "source": [
        "from sklearn.feature_extraction import DictVectorizer"
      ],
      "execution_count": 24,
      "outputs": []
    },
    {
      "cell_type": "code",
      "metadata": {
        "id": "evcWDaoM_DuW"
      },
      "source": [
        "data_dict = [{\"Red\": 2, \"Blue\": 4},\r\n",
        " {\"Red\": 4, \"Blue\": 3},\r\n",
        " {\"Red\": 1, \"Yellow\": 2},\r\n",
        " {\"Red\": 2, \"Yellow\": 2}]"
      ],
      "execution_count": 25,
      "outputs": []
    },
    {
      "cell_type": "code",
      "metadata": {
        "id": "bJyeSndx_G71"
      },
      "source": [
        "dv=DictVectorizer(sparse=False)"
      ],
      "execution_count": 26,
      "outputs": []
    },
    {
      "cell_type": "code",
      "metadata": {
        "id": "96ZuGv5f_RAj"
      },
      "source": [
        "features=dv.fit_transform(data_dict)"
      ],
      "execution_count": 27,
      "outputs": []
    },
    {
      "cell_type": "code",
      "metadata": {
        "colab": {
          "base_uri": "https://localhost:8080/"
        },
        "id": "0xeR9_fC_Wsr",
        "outputId": "4cb26148-a0b2-47cd-e1b8-b3e8d48a9062"
      },
      "source": [
        "features"
      ],
      "execution_count": 28,
      "outputs": [
        {
          "output_type": "execute_result",
          "data": {
            "text/plain": [
              "array([[4., 2., 0.],\n",
              "       [3., 4., 0.],\n",
              "       [0., 1., 2.],\n",
              "       [0., 2., 2.]])"
            ]
          },
          "metadata": {
            "tags": []
          },
          "execution_count": 28
        }
      ]
    },
    {
      "cell_type": "code",
      "metadata": {
        "id": "Nqygs-aC_YJl"
      },
      "source": [
        "feature_names=dv.get_feature_names()"
      ],
      "execution_count": 29,
      "outputs": []
    },
    {
      "cell_type": "code",
      "metadata": {
        "colab": {
          "base_uri": "https://localhost:8080/"
        },
        "id": "tPunmHZmAjKe",
        "outputId": "d75224ef-a1c9-418f-8a83-e05bd2f76a8e"
      },
      "source": [
        "feature_names"
      ],
      "execution_count": 30,
      "outputs": [
        {
          "output_type": "execute_result",
          "data": {
            "text/plain": [
              "['Blue', 'Red', 'Yellow']"
            ]
          },
          "metadata": {
            "tags": []
          },
          "execution_count": 30
        }
      ]
    },
    {
      "cell_type": "code",
      "metadata": {
        "colab": {
          "base_uri": "https://localhost:8080/",
          "height": 173
        },
        "id": "mCXJfL_HAlHd",
        "outputId": "896a2647-1844-4185-b031-69028e93f6c1"
      },
      "source": [
        "pd.DataFrame(features, columns=feature_names)"
      ],
      "execution_count": 31,
      "outputs": [
        {
          "output_type": "execute_result",
          "data": {
            "text/html": [
              "<div>\n",
              "<style scoped>\n",
              "    .dataframe tbody tr th:only-of-type {\n",
              "        vertical-align: middle;\n",
              "    }\n",
              "\n",
              "    .dataframe tbody tr th {\n",
              "        vertical-align: top;\n",
              "    }\n",
              "\n",
              "    .dataframe thead th {\n",
              "        text-align: right;\n",
              "    }\n",
              "</style>\n",
              "<table border=\"1\" class=\"dataframe\">\n",
              "  <thead>\n",
              "    <tr style=\"text-align: right;\">\n",
              "      <th></th>\n",
              "      <th>Blue</th>\n",
              "      <th>Red</th>\n",
              "      <th>Yellow</th>\n",
              "    </tr>\n",
              "  </thead>\n",
              "  <tbody>\n",
              "    <tr>\n",
              "      <th>0</th>\n",
              "      <td>4.0</td>\n",
              "      <td>2.0</td>\n",
              "      <td>0.0</td>\n",
              "    </tr>\n",
              "    <tr>\n",
              "      <th>1</th>\n",
              "      <td>3.0</td>\n",
              "      <td>4.0</td>\n",
              "      <td>0.0</td>\n",
              "    </tr>\n",
              "    <tr>\n",
              "      <th>2</th>\n",
              "      <td>0.0</td>\n",
              "      <td>1.0</td>\n",
              "      <td>2.0</td>\n",
              "    </tr>\n",
              "    <tr>\n",
              "      <th>3</th>\n",
              "      <td>0.0</td>\n",
              "      <td>2.0</td>\n",
              "      <td>2.0</td>\n",
              "    </tr>\n",
              "  </tbody>\n",
              "</table>\n",
              "</div>"
            ],
            "text/plain": [
              "   Blue  Red  Yellow\n",
              "0   4.0  2.0     0.0\n",
              "1   3.0  4.0     0.0\n",
              "2   0.0  1.0     2.0\n",
              "3   0.0  2.0     2.0"
            ]
          },
          "metadata": {
            "tags": []
          },
          "execution_count": 31
        }
      ]
    },
    {
      "cell_type": "markdown",
      "metadata": {
        "id": "_sKJ0-VUESZe"
      },
      "source": [
        "4. Handling Imbalanced Classes"
      ]
    },
    {
      "cell_type": "code",
      "metadata": {
        "id": "Ru5ne8svBOHk"
      },
      "source": [
        "from sklearn.ensemble import RandomForestClassifier\r\n",
        "from sklearn.datasets import load_iris\r\n"
      ],
      "execution_count": 32,
      "outputs": []
    },
    {
      "cell_type": "code",
      "metadata": {
        "id": "X0AXmUSYEaD4"
      },
      "source": [
        "iris=load_iris()"
      ],
      "execution_count": 33,
      "outputs": []
    },
    {
      "cell_type": "code",
      "metadata": {
        "id": "IdJBdCfjEdru"
      },
      "source": [
        "features = iris.data"
      ],
      "execution_count": 34,
      "outputs": []
    },
    {
      "cell_type": "code",
      "metadata": {
        "id": "lBUs70U4Ej2Z"
      },
      "source": [
        "target=iris.target"
      ],
      "execution_count": 35,
      "outputs": []
    },
    {
      "cell_type": "code",
      "metadata": {
        "id": "UK9ptHS1Emye"
      },
      "source": [
        "features=feature[40:,:]\r\n",
        "target=target[40:]"
      ],
      "execution_count": 37,
      "outputs": []
    },
    {
      "cell_type": "code",
      "metadata": {
        "id": "Wxxa80GFE3Hf"
      },
      "source": [
        "target = np.where((target == 0), 0, 1)"
      ],
      "execution_count": 38,
      "outputs": []
    },
    {
      "cell_type": "code",
      "metadata": {
        "colab": {
          "base_uri": "https://localhost:8080/"
        },
        "id": "DOjcyHB0FA5h",
        "outputId": "9b13a5d5-c86a-40f1-a15d-88d8a4d61798"
      },
      "source": [
        "target"
      ],
      "execution_count": 39,
      "outputs": [
        {
          "output_type": "execute_result",
          "data": {
            "text/plain": [
              "array([0, 0, 0, 0, 0, 0, 0, 0, 0, 0, 1, 1, 1, 1, 1, 1, 1, 1, 1, 1, 1, 1,\n",
              "       1, 1, 1, 1, 1, 1, 1, 1, 1, 1, 1, 1, 1, 1, 1, 1, 1, 1, 1, 1, 1, 1,\n",
              "       1, 1, 1, 1, 1, 1, 1, 1, 1, 1, 1, 1, 1, 1, 1, 1, 1, 1, 1, 1, 1, 1,\n",
              "       1, 1, 1, 1, 1, 1, 1, 1, 1, 1, 1, 1, 1, 1, 1, 1, 1, 1, 1, 1, 1, 1,\n",
              "       1, 1, 1, 1, 1, 1, 1, 1, 1, 1, 1, 1, 1, 1, 1, 1, 1, 1, 1, 1, 1, 1])"
            ]
          },
          "metadata": {
            "tags": []
          },
          "execution_count": 39
        }
      ]
    },
    {
      "cell_type": "code",
      "metadata": {
        "id": "uhWm1l1AFCKd"
      },
      "source": [
        ""
      ],
      "execution_count": 41,
      "outputs": []
    },
    {
      "cell_type": "code",
      "metadata": {
        "colab": {
          "base_uri": "https://localhost:8080/"
        },
        "id": "edJ6DIUIFg6y",
        "outputId": "0224dea9-2019-48c5-8e14-5b9fc94094cc"
      },
      "source": [
        "RandomForestClassifier(class_weight='balanced')"
      ],
      "execution_count": 42,
      "outputs": [
        {
          "output_type": "execute_result",
          "data": {
            "text/plain": [
              "RandomForestClassifier(bootstrap=True, ccp_alpha=0.0, class_weight='balanced',\n",
              "                       criterion='gini', max_depth=None, max_features='auto',\n",
              "                       max_leaf_nodes=None, max_samples=None,\n",
              "                       min_impurity_decrease=0.0, min_impurity_split=None,\n",
              "                       min_samples_leaf=1, min_samples_split=2,\n",
              "                       min_weight_fraction_leaf=0.0, n_estimators=100,\n",
              "                       n_jobs=None, oob_score=False, random_state=None,\n",
              "                       verbose=0, warm_start=False)"
            ]
          },
          "metadata": {
            "tags": []
          },
          "execution_count": 42
        }
      ]
    },
    {
      "cell_type": "code",
      "metadata": {
        "id": "TbnB0q3_JP96"
      },
      "source": [
        "i_class0 = np.where(target == 0)[0]\r\n",
        "i_class1 = np.where(target == 1)[0]"
      ],
      "execution_count": 44,
      "outputs": []
    },
    {
      "cell_type": "code",
      "metadata": {
        "id": "-CokikLYQHo7"
      },
      "source": [
        "n_class0 = len(i_class0)\r\n",
        "n_class1 = len(i_class1)"
      ],
      "execution_count": 45,
      "outputs": []
    },
    {
      "cell_type": "code",
      "metadata": {
        "colab": {
          "base_uri": "https://localhost:8080/"
        },
        "id": "T0d_zNG7QMVH",
        "outputId": "a8ab05cb-c64c-4b32-9227-8259a849fa84"
      },
      "source": [
        "i_class0\r\n",
        "\r\n"
      ],
      "execution_count": 50,
      "outputs": [
        {
          "output_type": "execute_result",
          "data": {
            "text/plain": [
              "array([0, 1, 2, 3, 4, 5, 6, 7, 8, 9])"
            ]
          },
          "metadata": {
            "tags": []
          },
          "execution_count": 50
        }
      ]
    },
    {
      "cell_type": "code",
      "metadata": {
        "colab": {
          "base_uri": "https://localhost:8080/"
        },
        "id": "V-TU_VMrQ-6l",
        "outputId": "c681e3fc-c475-4bff-f3cc-aa3f609115ed"
      },
      "source": [
        "i_class1"
      ],
      "execution_count": 51,
      "outputs": [
        {
          "output_type": "execute_result",
          "data": {
            "text/plain": [
              "array([ 10,  11,  12,  13,  14,  15,  16,  17,  18,  19,  20,  21,  22,\n",
              "        23,  24,  25,  26,  27,  28,  29,  30,  31,  32,  33,  34,  35,\n",
              "        36,  37,  38,  39,  40,  41,  42,  43,  44,  45,  46,  47,  48,\n",
              "        49,  50,  51,  52,  53,  54,  55,  56,  57,  58,  59,  60,  61,\n",
              "        62,  63,  64,  65,  66,  67,  68,  69,  70,  71,  72,  73,  74,\n",
              "        75,  76,  77,  78,  79,  80,  81,  82,  83,  84,  85,  86,  87,\n",
              "        88,  89,  90,  91,  92,  93,  94,  95,  96,  97,  98,  99, 100,\n",
              "       101, 102, 103, 104, 105, 106, 107, 108, 109])"
            ]
          },
          "metadata": {
            "tags": []
          },
          "execution_count": 51
        }
      ]
    },
    {
      "cell_type": "code",
      "metadata": {
        "colab": {
          "base_uri": "https://localhost:8080/"
        },
        "id": "7BO9zva1QOag",
        "outputId": "6ce073c6-508a-43b3-cfba-50c0102d02f0"
      },
      "source": [
        "n_class0\r\n"
      ],
      "execution_count": 48,
      "outputs": [
        {
          "output_type": "execute_result",
          "data": {
            "text/plain": [
              "10"
            ]
          },
          "metadata": {
            "tags": []
          },
          "execution_count": 48
        }
      ]
    },
    {
      "cell_type": "code",
      "metadata": {
        "colab": {
          "base_uri": "https://localhost:8080/"
        },
        "id": "g0uGn-gCQWAj",
        "outputId": "1beb8390-3a6f-431d-c5a9-71d6879f5f89"
      },
      "source": [
        "n_class1"
      ],
      "execution_count": 49,
      "outputs": [
        {
          "output_type": "execute_result",
          "data": {
            "text/plain": [
              "100"
            ]
          },
          "metadata": {
            "tags": []
          },
          "execution_count": 49
        }
      ]
    },
    {
      "cell_type": "code",
      "metadata": {
        "id": "McfbTAg3QYt-"
      },
      "source": [
        "i_class1_downsampled = np.random.choice(i_class1, size=n_class0, replace=False)\r\n"
      ],
      "execution_count": 55,
      "outputs": []
    },
    {
      "cell_type": "code",
      "metadata": {
        "colab": {
          "base_uri": "https://localhost:8080/"
        },
        "id": "7vBB41MbRFnR",
        "outputId": "78335a0e-f4e6-4db6-901c-c5b2322a7615"
      },
      "source": [
        "i_class1_downsampled"
      ],
      "execution_count": 56,
      "outputs": [
        {
          "output_type": "execute_result",
          "data": {
            "text/plain": [
              "array([ 14,  72,  28,  10,  15,  64,  62,  27, 101,  70])"
            ]
          },
          "metadata": {
            "tags": []
          },
          "execution_count": 56
        }
      ]
    },
    {
      "cell_type": "code",
      "metadata": {
        "colab": {
          "base_uri": "https://localhost:8080/"
        },
        "id": "jAEWM-NNRMyz",
        "outputId": "1b287492-da5c-4746-cba0-cab0bf942dc7"
      },
      "source": [
        "np.hstack((target[i_class0], target[i_class1_downsampled]))"
      ],
      "execution_count": 57,
      "outputs": [
        {
          "output_type": "execute_result",
          "data": {
            "text/plain": [
              "array([0, 0, 0, 0, 0, 0, 0, 0, 0, 0, 1, 1, 1, 1, 1, 1, 1, 1, 1, 1])"
            ]
          },
          "metadata": {
            "tags": []
          },
          "execution_count": 57
        }
      ]
    },
    {
      "cell_type": "code",
      "metadata": {
        "id": "iZOQBUkgRZMt"
      },
      "source": [
        ""
      ],
      "execution_count": 62,
      "outputs": []
    },
    {
      "cell_type": "code",
      "metadata": {
        "id": "-RQRxganRwk6"
      },
      "source": [
        ""
      ],
      "execution_count": null,
      "outputs": []
    }
  ]
}
