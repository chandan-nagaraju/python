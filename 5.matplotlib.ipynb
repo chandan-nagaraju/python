{
  "nbformat": 4,
  "nbformat_minor": 0,
  "metadata": {
    "colab": {
      "name": "5.matplotlib.ipynb",
      "provenance": [],
      "toc_visible": true,
      "authorship_tag": "ABX9TyMGbIP92wiE5bDiu9pl/2ue",
      "include_colab_link": true
    },
    "kernelspec": {
      "name": "python3",
      "display_name": "Python 3"
    }
  },
  "cells": [
    {
      "cell_type": "markdown",
      "metadata": {
        "id": "view-in-github",
        "colab_type": "text"
      },
      "source": [
        "<a href=\"https://colab.research.google.com/github/chandan-nagaraju/python/blob/main/5.matplotlib.ipynb\" target=\"_parent\"><img src=\"https://colab.research.google.com/assets/colab-badge.svg\" alt=\"Open In Colab\"/></a>"
      ]
    },
    {
      "cell_type": "markdown",
      "metadata": {
        "id": "dX6wV9vKgG58"
      },
      "source": [
        "# Matplotlib \r\n",
        "it is a plotting library for the python programming language \r\n",
        "\r\n",
        "it is a numerical mathematics extesion of numpy \r\n",
        "\r\n",
        "its easy to use \r\n",
        "\r\n",
        "supports custom labels and texts\r\n",
        "\r\n",
        "high quality output in any formats\r\n"
      ]
    },
    {
      "cell_type": "code",
      "metadata": {
        "id": "mhq_YGp8gwSg"
      },
      "source": [
        "import numpy as np\r\n",
        "import matplotlib.pyplot as plt\r\n",
        "%matplotlib inline"
      ],
      "execution_count": 2,
      "outputs": []
    },
    {
      "cell_type": "code",
      "metadata": {
        "id": "Iy60dt-4g6-D"
      },
      "source": [
        "x=np.arange(0,10)\r\n",
        "y=np.arange(11,21)"
      ],
      "execution_count": 3,
      "outputs": []
    },
    {
      "cell_type": "code",
      "metadata": {
        "colab": {
          "base_uri": "https://localhost:8080/",
          "height": 295
        },
        "id": "3-W79bM7hRjy",
        "outputId": "2c729a55-20d4-4279-9312-b2f16eb233c6"
      },
      "source": [
        "plt.scatter(x,y, c='r')\r\n",
        "plt.xlabel('X axis')\r\n",
        "plt.ylabel('Y axis')\r\n",
        "plt.title('2-d graph')\r\n",
        "plt.savefig('tes.png')"
      ],
      "execution_count": 4,
      "outputs": [
        {
          "output_type": "display_data",
          "data": {
            "image/png": "[encoded data removed]",
            "text/plain": [
              "<Figure size 432x288 with 1 Axes>"
            ]
          },
          "metadata": {
            "tags": [],
            "needs_background": "light"
          }
        }
      ]
    },
    {
      "cell_type": "code",
      "metadata": {
        "id": "sW9Dx5SshWw2"
      },
      "source": [
        "y=x*x"
      ],
      "execution_count": 5,
      "outputs": []
    },
    {
      "cell_type": "code",
      "metadata": {
        "colab": {
          "base_uri": "https://localhost:8080/",
          "height": 282
        },
        "id": "wMeYDiJ5iUph",
        "outputId": "3f7c28ba-8e0f-4b69-d0e9-d38ab853074d"
      },
      "source": [
        "plt.plot(x,y, 'r+', linestyle='dashed', linewidth=2)"
      ],
      "execution_count": 6,
      "outputs": [
        {
          "output_type": "execute_result",
          "data": {
            "text/plain": [
              "[<matplotlib.lines.Line2D at 0x7f7cd87ba710>]"
            ]
          },
          "metadata": {
            "tags": []
          },
          "execution_count": 6
        },
        {
          "output_type": "display_data",
          "data": {
            "image/png": "[encoded data removed]",
            "text/plain": [
              "<Figure size 432x288 with 1 Axes>"
            ]
          },
          "metadata": {
            "tags": [],
            "needs_background": "light"
          }
        }
      ]
    },
    {
      "cell_type": "code",
      "metadata": {
        "colab": {
          "base_uri": "https://localhost:8080/",
          "height": 265
        },
        "id": "ntczUdl9ic4n",
        "outputId": "75c9fca2-aee0-440f-b0fe-85fd986f8710"
      },
      "source": [
        "plt.subplot(2,2,1)\r\n",
        "plt.plot(x,y,'r')\r\n",
        "plt.subplot(2,2,2)\r\n",
        "plt.plot(x,y,'g*--')\r\n",
        "plt.subplot(2,2,4)\r\n",
        "plt.plot(x,y,'bo--')\r\n",
        "plt.savefig('test1.png')"
      ],
      "execution_count": 7,
      "outputs": [
        {
          "output_type": "display_data",
          "data": {
            "image/png": "[encoded data removed]",
            "text/plain": [
              "<Figure size 432x288 with 3 Axes>"
            ]
          },
          "metadata": {
            "tags": [],
            "needs_background": "light"
          }
        }
      ]
    },
    {
      "cell_type": "code",
      "metadata": {
        "colab": {
          "base_uri": "https://localhost:8080/",
          "height": 298
        },
        "id": "ECSuQkY3jVNG",
        "outputId": "bb30ab41-1034-45b5-f0d6-8a83a8666327"
      },
      "source": [
        "x=np.arange(0,4*np.pi, 0.1)\r\n",
        "y=np.cos(x)\r\n",
        "plt.title(\"cos wave form\")\r\n",
        "plt.plot(x,y)"
      ],
      "execution_count": 8,
      "outputs": [
        {
          "output_type": "execute_result",
          "data": {
            "text/plain": [
              "[<matplotlib.lines.Line2D at 0x7f7cd87ba7f0>]"
            ]
          },
          "metadata": {
            "tags": []
          },
          "execution_count": 8
        },
        {
          "output_type": "display_data",
          "data": {
            "image/png": "[encoded data removed]",
            "text/plain": [
              "<Figure size 432x288 with 1 Axes>"
            ]
          },
          "metadata": {
            "tags": [],
            "needs_background": "light"
          }
        }
      ]
    },
    {
      "cell_type": "code",
      "metadata": {
        "colab": {
          "base_uri": "https://localhost:8080/",
          "height": 282
        },
        "id": "4LMv7zUokjJV",
        "outputId": "ff462616-1173-4a61-a3c6-7ae140240e7b"
      },
      "source": [
        "## barplot\r\n",
        "x=[1,2,3,4,5]\r\n",
        "y=[11,12,13,14,15]\r\n",
        "plt.bar(x,y,color='r')"
      ],
      "execution_count": 9,
      "outputs": [
        {
          "output_type": "execute_result",
          "data": {
            "text/plain": [
              "<BarContainer object of 5 artists>"
            ]
          },
          "metadata": {
            "tags": []
          },
          "execution_count": 9
        },
        {
          "output_type": "display_data",
          "data": {
            "image/png": "[encoded data removed]",
            "text/plain": [
              "<Figure size 432x288 with 1 Axes>"
            ]
          },
          "metadata": {
            "tags": [],
            "needs_background": "light"
          }
        }
      ]
    },
    {
      "cell_type": "markdown",
      "metadata": {
        "id": "hobSSTkPl-AN"
      },
      "source": [
        "## histogram \r\n",
        "helps to find the density "
      ]
    },
    {
      "cell_type": "code",
      "metadata": {
        "id": "I8rEIzUKlNBK"
      },
      "source": [
        "a=np.array([12,3,4,10,12,11,13,14,15,18,17,30])"
      ],
      "execution_count": 10,
      "outputs": []
    },
    {
      "cell_type": "code",
      "metadata": {
        "colab": {
          "base_uri": "https://localhost:8080/",
          "height": 298
        },
        "id": "BRYe0JGuljtK",
        "outputId": "31f5d6db-a7e9-4fad-94af-9f4456ed5ac2"
      },
      "source": [
        "plt.hist(a)\r\n",
        "plt.title('histogram')"
      ],
      "execution_count": 11,
      "outputs": [
        {
          "output_type": "execute_result",
          "data": {
            "text/plain": [
              "Text(0.5, 1.0, 'histogram')"
            ]
          },
          "metadata": {
            "tags": []
          },
          "execution_count": 11
        },
        {
          "output_type": "display_data",
          "data": {
            "image/png": "[encoded data removed]",
            "text/plain": [
              "<Figure size 432x288 with 1 Axes>"
            ]
          },
          "metadata": {
            "tags": [],
            "needs_background": "light"
          }
        }
      ]
    },
    {
      "cell_type": "markdown",
      "metadata": {
        "id": "VXoAkf6XmMJV"
      },
      "source": [
        "## Boxplot"
      ]
    },
    {
      "cell_type": "code",
      "metadata": {
        "colab": {
          "base_uri": "https://localhost:8080/"
        },
        "id": "qIfJUUXollso",
        "outputId": "5cbf64d4-6898-42dd-b903-82864533748f"
      },
      "source": [
        "data=[np.random.normal(0,std,100) for std in range(1,4)]\r\n",
        "data"
      ],
      "execution_count": 12,
      "outputs": [
        {
          "output_type": "execute_result",
          "data": {
            "text/plain": [
              "[array([-1.44690361,  0.29583643, -0.26290549,  0.98038072, -0.94591324,\n",
              "        -0.05599895, -0.04147072, -0.51500555,  0.06265847,  0.04881474,\n",
              "        -0.88158051,  0.85869916,  0.54467119, -0.93586098,  0.1440954 ,\n",
              "         1.92435107, -0.82831056, -0.70778647, -0.40052948,  0.08404208,\n",
              "         0.66999505, -0.08848197,  0.81481291,  0.99863526, -1.60571171,\n",
              "        -1.82846897, -0.20231716,  0.1950808 , -1.02595969, -2.27193706,\n",
              "        -0.38687472, -0.33601991,  0.67921724, -1.99110586,  0.12628319,\n",
              "         0.81829963,  0.22023413, -0.2783565 ,  0.92197153,  0.54581993,\n",
              "         0.54203408,  0.12831119,  0.19438466,  0.42158732,  0.64489207,\n",
              "        -0.69130823, -0.71046914, -0.36144289,  0.64722612, -1.25844747,\n",
              "         0.42279472, -0.65845277,  0.64479383,  1.81134734,  1.87969606,\n",
              "        -0.73477757,  0.13050773,  0.8132388 , -2.14661051, -0.78546709,\n",
              "        -0.25284201, -0.43387249, -0.62705161,  1.70257121, -1.51678623,\n",
              "         0.53864368,  0.61392493,  0.94555152,  0.07846541,  0.42330693,\n",
              "         1.08145419, -0.01099505,  0.6986409 , -0.11294993,  0.47857418,\n",
              "         0.30365279, -0.44242321, -0.2279164 ,  0.37369038, -0.1426558 ,\n",
              "         0.89803814, -2.76474852, -1.98393796,  0.64834692,  0.00951979,\n",
              "        -1.83358609,  1.54310904, -1.76619916,  1.6732591 , -0.75552143,\n",
              "        -0.16721836, -1.06104017,  0.7095174 ,  0.73763632, -0.78180978,\n",
              "        -0.19763308,  1.25472461, -0.31880274, -0.59890154,  0.21638773]),\n",
              " array([ 2.76003562,  2.2636823 , -1.12054265, -0.03374672, -3.97528661,\n",
              "         1.42441122, -3.91316285, -2.46469322,  0.89439391, -1.73923328,\n",
              "        -1.22474925, -0.14742777,  0.93430793,  1.91399643,  0.72623548,\n",
              "        -2.4480427 ,  2.61277994, -0.15497209,  1.79670012,  0.30867106,\n",
              "         0.57920677, -1.46186076,  2.464739  ,  2.77229232,  0.71621788,\n",
              "         1.46592806, -0.64356048,  0.09739489, -1.81577355, -1.17255605,\n",
              "        -1.27087211,  2.17410104,  1.65723953, -0.19138752, -0.31696118,\n",
              "        -0.85063758,  3.41196473, -2.80120946, -0.92601499,  0.1429331 ,\n",
              "        -1.30900112, -0.6097073 , -1.07197599, -0.90639105, -0.28216045,\n",
              "         0.19303167,  0.92775554, -4.54615955,  2.39191491,  0.23649795,\n",
              "         1.66200108,  0.0550332 ,  0.74809405,  1.61731379,  1.96132302,\n",
              "        -3.51045291, -2.13828993, -0.07985854, -4.07405157, -1.9507372 ,\n",
              "         1.20394734,  1.93610442, -1.38283753,  2.81886542,  1.94648967,\n",
              "         1.25702554, -1.04921414, -1.13514261, -1.31835146, -0.23819978,\n",
              "        -1.4966789 , -1.37019567, -2.37994447, -1.65191472, -1.60737236,\n",
              "         3.11411539,  1.56754872,  2.05107756,  2.93074456,  3.27891406,\n",
              "        -0.18192441,  5.29153292,  2.68597621, -0.32927244, -0.03577041,\n",
              "         1.29392928, -2.42130957, -1.56135691,  2.35821784,  1.52056058,\n",
              "        -2.50377636, -1.26310199,  0.11203396,  1.621881  ,  1.20694768,\n",
              "        -0.98112585, -2.35482818,  1.81220834,  3.64640272,  2.09562696]),\n",
              " array([ 3.1603937 , -0.46703791, -0.97221771,  3.68584377, -0.84918603,\n",
              "         5.27290979, -1.26486247, -3.48311823,  0.21562766,  6.00338207,\n",
              "         1.23090964,  0.21185669, -3.75076068,  4.71066106,  0.32956882,\n",
              "         4.67732991, -2.30235071, -0.476799  , -5.60932747,  0.6170259 ,\n",
              "        -0.44125788,  4.09324483, -0.7913534 ,  3.34268821,  1.18367289,\n",
              "        -6.28939331,  3.296123  ,  0.55227297,  6.04154367,  2.1608196 ,\n",
              "        -0.22051282,  4.83562441, -4.60418068,  7.8607905 ,  1.75555522,\n",
              "        -2.78039001,  1.60585931, -1.65531385, -3.61833437,  1.62847909,\n",
              "        -0.51072709,  1.99872285, -1.73548248, -0.04459578, -0.63844333,\n",
              "         3.55948981,  2.11887644,  8.59197304,  5.21601746, -0.66566291,\n",
              "         0.96417703, -2.21436087,  3.33514427, -0.95054648, -4.82281015,\n",
              "         1.41702817,  3.43928188, -2.84640614, -0.40210833,  1.90686356,\n",
              "        -1.13109236,  1.33305825, -0.98453067,  3.04266212,  6.37576764,\n",
              "         4.18446878, -2.05578591, -4.90444655,  1.56437461,  1.90100458,\n",
              "         1.76693869, -3.45760216, -2.60373789,  1.13319488,  3.36139955,\n",
              "         1.04252009,  1.09585936, -1.44907002,  0.72154433, -1.78696799,\n",
              "         0.60698648,  2.03020975, -2.14283156, -0.76682274,  0.79389542,\n",
              "         2.84805182, -0.22059534,  1.09261661,  8.86695922,  8.12518056,\n",
              "         2.17666057,  0.17975982, -1.63172852, -4.31200332,  0.84576795,\n",
              "         3.36127041,  2.22567545, -0.73674868,  0.61941386, -0.96652524])]"
            ]
          },
          "metadata": {
            "tags": []
          },
          "execution_count": 12
        }
      ]
    },
    {
      "cell_type": "code",
      "metadata": {
        "colab": {
          "base_uri": "https://localhost:8080/",
          "height": 639
        },
        "id": "h3qeB59dmb4D",
        "outputId": "7bb8bc9d-ebc2-42ce-a5a8-d6cae2e5c912"
      },
      "source": [
        "plt.boxplot(data, vert=True, patch_artist=True)"
      ],
      "execution_count": 13,
      "outputs": [
        {
          "output_type": "execute_result",
          "data": {
            "text/plain": [
              "{'boxes': [<matplotlib.patches.PathPatch at 0x7f7cd857cd30>,\n",
              "  <matplotlib.patches.PathPatch at 0x7f7cd85194e0>,\n",
              "  <matplotlib.patches.PathPatch at 0x7f7cd8525cc0>],\n",
              " 'caps': [<matplotlib.lines.Line2D at 0x7f7cd85104a8>,\n",
              "  <matplotlib.lines.Line2D at 0x7f7cd8510828>,\n",
              "  <matplotlib.lines.Line2D at 0x7f7cd8519c88>,\n",
              "  <matplotlib.lines.Line2D at 0x7f7cd8525048>,\n",
              "  <matplotlib.lines.Line2D at 0x7f7cd8530470>,\n",
              "  <matplotlib.lines.Line2D at 0x7f7cd85307f0>],\n",
              " 'fliers': [<matplotlib.lines.Line2D at 0x7f7cd8510f28>,\n",
              "  <matplotlib.lines.Line2D at 0x7f7cd8525748>,\n",
              "  <matplotlib.lines.Line2D at 0x7f7cd8530ef0>],\n",
              " 'means': [],\n",
              " 'medians': [<matplotlib.lines.Line2D at 0x7f7cd8510ba8>,\n",
              "  <matplotlib.lines.Line2D at 0x7f7cd85253c8>,\n",
              "  <matplotlib.lines.Line2D at 0x7f7cd8530b70>],\n",
              " 'whiskers': [<matplotlib.lines.Line2D at 0x7f7cd857cfd0>,\n",
              "  <matplotlib.lines.Line2D at 0x7f7cd8510128>,\n",
              "  <matplotlib.lines.Line2D at 0x7f7cd85197f0>,\n",
              "  <matplotlib.lines.Line2D at 0x7f7cd8519908>,\n",
              "  <matplotlib.lines.Line2D at 0x7f7cd8525f98>,\n",
              "  <matplotlib.lines.Line2D at 0x7f7cd85300f0>]}"
            ]
          },
          "metadata": {
            "tags": []
          },
          "execution_count": 13
        },
        {
          "output_type": "display_data",
          "data": {
            "image/png": "[encoded data removed]",
            "text/plain": [
              "<Figure size 432x288 with 1 Axes>"
            ]
          },
          "metadata": {
            "tags": [],
            "needs_background": "light"
          }
        }
      ]
    },
    {
      "cell_type": "code",
      "metadata": {
        "colab": {
          "base_uri": "https://localhost:8080/",
          "height": 316
        },
        "id": "QrsVdw6Cmyzc",
        "outputId": "ea36e008-983a-43db-b5c1-84f0a6c3e64a"
      },
      "source": [
        "#pie chart\r\n",
        "labels='python', 'c++','Ruby', 'java'\r\n",
        "sizes=[215,130,245,210]\r\n",
        "colors=['gold','yellowgreen','lightcoral','lightskyblue']\r\n",
        "explode=(0.1,0,0,0)\r\n",
        "#plot\r\n",
        "plt.pie(sizes, explode=explode, labels=labels, colors=colors, autopct='%1.1f%%', shadow=False)\r\n",
        "plt.axis('equal')\r\n"
      ],
      "execution_count": 18,
      "outputs": [
        {
          "output_type": "execute_result",
          "data": {
            "text/plain": [
              "(-1.110357630258774,\n",
              " 1.1700815681940582,\n",
              " -1.1123471234176157,\n",
              " 1.1890279445195506)"
            ]
          },
          "metadata": {
            "tags": []
          },
          "execution_count": 18
        },
        {
          "output_type": "display_data",
          "data": {
            "image/png": "[encoded data removed]",
            "text/plain": [
              "<Figure size 432x288 with 1 Axes>"
            ]
          },
          "metadata": {
            "tags": []
          }
        }
      ]
    },
    {
      "cell_type": "code",
      "metadata": {
        "id": "bRn1oVsigON1"
      },
      "source": [
        ""
      ],
      "execution_count": null,
      "outputs": []
    }
  ]
}