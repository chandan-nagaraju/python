{
  "nbformat": 4,
  "nbformat_minor": 0,
  "metadata": {
    "colab": {
      "name": "numpy.ipynb",
      "provenance": [],
      "authorship_tag": "ABX9TyPPwKu/2ZWvXP2+yeArivjh",
      "include_colab_link": true
    },
    "kernelspec": {
      "name": "python3",
      "display_name": "Python 3"
    }
  },
  "cells": [
    {
      "cell_type": "markdown",
      "metadata": {
        "id": "view-in-github",
        "colab_type": "text"
      },
      "source": [
        "<a href=\"https://colab.research.google.com/github/chandan-nagaraju/python/blob/main/3.numpy.ipynb\" target=\"_parent\"><img src=\"https://colab.research.google.com/assets/colab-badge.svg\" alt=\"Open In Colab\"/></a>"
      ]
    },
    {
      "cell_type": "markdown",
      "metadata": {
        "id": "WZtUxQRi0fEM"
      },
      "source": [
        "## NUMPY\r\n",
        "it is a general-purpose array-processing package.\r\n",
        "it provides a high-performance multidimensional array object and tools for working with these arrays.\r\n",
        "#to install numpy in python cmd and conda\r\n",
        "pip install numpy\r\n",
        "#for anaconda users \r\n",
        "conda install numpy"
      ]
    },
    {
      "cell_type": "code",
      "metadata": {
        "id": "yGss5WLJ1Z2z"
      },
      "source": [
        "# importing numpy\r\n",
        "import numpy as np\r\n"
      ],
      "execution_count": 2,
      "outputs": []
    },
    {
      "cell_type": "markdown",
      "metadata": {
        "id": "2O15Ol8a2WA8"
      },
      "source": [
        "## one-diemensional array"
      ]
    },
    {
      "cell_type": "code",
      "metadata": {
        "id": "vicUrq8L13UY"
      },
      "source": [
        "lst=[1,2,3,4,5]\r\n",
        "arr=np.array(lst)"
      ],
      "execution_count": 3,
      "outputs": []
    },
    {
      "cell_type": "code",
      "metadata": {
        "colab": {
          "base_uri": "https://localhost:8080/"
        },
        "id": "RnHEhu2S2K5g",
        "outputId": "6c17f843-3852-408e-e45b-1ae73ed5f371"
      },
      "source": [
        "arr"
      ],
      "execution_count": 4,
      "outputs": [
        {
          "output_type": "execute_result",
          "data": {
            "text/plain": [
              "array([1, 2, 3, 4, 5])"
            ]
          },
          "metadata": {
            "tags": []
          },
          "execution_count": 4
        }
      ]
    },
    {
      "cell_type": "code",
      "metadata": {
        "colab": {
          "base_uri": "https://localhost:8080/"
        },
        "id": "Fr_M8r8Y2Mf5",
        "outputId": "2678ce36-e1d9-48f3-b46a-f15ab5ae008f"
      },
      "source": [
        "type(arr)"
      ],
      "execution_count": 5,
      "outputs": [
        {
          "output_type": "execute_result",
          "data": {
            "text/plain": [
              "numpy.ndarray"
            ]
          },
          "metadata": {
            "tags": []
          },
          "execution_count": 5
        }
      ]
    },
    {
      "cell_type": "code",
      "metadata": {
        "colab": {
          "base_uri": "https://localhost:8080/"
        },
        "id": "1RQmZ4HW2N9y",
        "outputId": "df4f80d8-784c-44a5-ad18-7f1d14661264"
      },
      "source": [
        "arr.shape"
      ],
      "execution_count": 6,
      "outputs": [
        {
          "output_type": "execute_result",
          "data": {
            "text/plain": [
              "(5,)"
            ]
          },
          "metadata": {
            "tags": []
          },
          "execution_count": 6
        }
      ]
    },
    {
      "cell_type": "code",
      "metadata": {
        "id": "BjXpAL432PNm"
      },
      "source": [
        "#multinested array\r\n",
        "lst_1=[1,2,3,4,5]\r\n",
        "lst_2=[2,3,4,5,6]\r\n",
        "lst_3=[3,4,5,6,7]"
      ],
      "execution_count": 7,
      "outputs": []
    },
    {
      "cell_type": "code",
      "metadata": {
        "id": "VxAXe4Ud3Q82"
      },
      "source": [
        "arr1=np.array([lst_1,lst_2,lst_3])"
      ],
      "execution_count": 8,
      "outputs": []
    },
    {
      "cell_type": "code",
      "metadata": {
        "colab": {
          "base_uri": "https://localhost:8080/"
        },
        "id": "2IFyYcB73YX2",
        "outputId": "174001dc-135f-4c73-91d3-2c38a3fc8374"
      },
      "source": [
        "arr1"
      ],
      "execution_count": 9,
      "outputs": [
        {
          "output_type": "execute_result",
          "data": {
            "text/plain": [
              "array([[1, 2, 3, 4, 5],\n",
              "       [2, 3, 4, 5, 6],\n",
              "       [3, 4, 5, 6, 7]])"
            ]
          },
          "metadata": {
            "tags": []
          },
          "execution_count": 9
        }
      ]
    },
    {
      "cell_type": "code",
      "metadata": {
        "colab": {
          "base_uri": "https://localhost:8080/"
        },
        "id": "ojx6WeEb3Zoq",
        "outputId": "2a15cf56-07c1-4dd5-e847-2b4a7dfeeb12"
      },
      "source": [
        "arr1.shape"
      ],
      "execution_count": 11,
      "outputs": [
        {
          "output_type": "execute_result",
          "data": {
            "text/plain": [
              "(3, 5)"
            ]
          },
          "metadata": {
            "tags": []
          },
          "execution_count": 11
        }
      ]
    },
    {
      "cell_type": "code",
      "metadata": {
        "colab": {
          "base_uri": "https://localhost:8080/"
        },
        "id": "xocIRIEI3baY",
        "outputId": "dad20a67-1047-479d-c13d-7cee0a82bee6"
      },
      "source": [
        "#to change the diemensionality of the array we can use reshape.\r\n",
        "arr1.reshape(5,3)"
      ],
      "execution_count": 12,
      "outputs": [
        {
          "output_type": "execute_result",
          "data": {
            "text/plain": [
              "array([[1, 2, 3],\n",
              "       [4, 5, 2],\n",
              "       [3, 4, 5],\n",
              "       [6, 3, 4],\n",
              "       [5, 6, 7]])"
            ]
          },
          "metadata": {
            "tags": []
          },
          "execution_count": 12
        }
      ]
    },
    {
      "cell_type": "code",
      "metadata": {
        "colab": {
          "base_uri": "https://localhost:8080/"
        },
        "id": "TwseRCiN3obx",
        "outputId": "66642338-be9a-41c5-9d1f-ddb68def2ad2"
      },
      "source": [
        "arr1.shape"
      ],
      "execution_count": 13,
      "outputs": [
        {
          "output_type": "execute_result",
          "data": {
            "text/plain": [
              "(3, 5)"
            ]
          },
          "metadata": {
            "tags": []
          },
          "execution_count": 13
        }
      ]
    },
    {
      "cell_type": "markdown",
      "metadata": {
        "id": "qmmpnhXb4Xip"
      },
      "source": [
        "# INDEXING\r\n"
      ]
    },
    {
      "cell_type": "code",
      "metadata": {
        "colab": {
          "base_uri": "https://localhost:8080/"
        },
        "id": "2PPO5PIQ3vn4",
        "outputId": "5456b934-3138-436e-c983-691ec14990e0"
      },
      "source": [
        "#indexing using 1 diemensional array\r\n",
        "arr=np.array([1,2,3,4,5,6,7,8,9])\r\n",
        "arr\r\n"
      ],
      "execution_count": 16,
      "outputs": [
        {
          "output_type": "execute_result",
          "data": {
            "text/plain": [
              "array([1, 2, 3, 4, 5, 6, 7, 8, 9])"
            ]
          },
          "metadata": {
            "tags": []
          },
          "execution_count": 16
        }
      ]
    },
    {
      "cell_type": "code",
      "metadata": {
        "colab": {
          "base_uri": "https://localhost:8080/"
        },
        "id": "9-749Pnx4ble",
        "outputId": "bc446e42-eef4-4e50-a3d1-d9ad9f53c07c"
      },
      "source": [
        "arr[3]"
      ],
      "execution_count": 17,
      "outputs": [
        {
          "output_type": "execute_result",
          "data": {
            "text/plain": [
              "4"
            ]
          },
          "metadata": {
            "tags": []
          },
          "execution_count": 17
        }
      ]
    },
    {
      "cell_type": "code",
      "metadata": {
        "colab": {
          "base_uri": "https://localhost:8080/"
        },
        "id": "pEu7C1fE4v92",
        "outputId": "c38f0fa0-a0a1-40a9-b4c5-aecb52b6e4c2"
      },
      "source": [
        "arr[2:5]"
      ],
      "execution_count": 18,
      "outputs": [
        {
          "output_type": "execute_result",
          "data": {
            "text/plain": [
              "array([3, 4, 5])"
            ]
          },
          "metadata": {
            "tags": []
          },
          "execution_count": 18
        }
      ]
    },
    {
      "cell_type": "code",
      "metadata": {
        "colab": {
          "base_uri": "https://localhost:8080/"
        },
        "id": "lolBb1XP477W",
        "outputId": "5916304c-6bff-4256-efc9-1aef525e905d"
      },
      "source": [
        "arr[:]"
      ],
      "execution_count": 19,
      "outputs": [
        {
          "output_type": "execute_result",
          "data": {
            "text/plain": [
              "array([1, 2, 3, 4, 5, 6, 7, 8, 9])"
            ]
          },
          "metadata": {
            "tags": []
          },
          "execution_count": 19
        }
      ]
    },
    {
      "cell_type": "code",
      "metadata": {
        "colab": {
          "base_uri": "https://localhost:8080/"
        },
        "id": "heOE0Gka4915",
        "outputId": "aa34f0bb-493d-4e28-a37e-4e504488982a"
      },
      "source": [
        "arr[:9]"
      ],
      "execution_count": 21,
      "outputs": [
        {
          "output_type": "execute_result",
          "data": {
            "text/plain": [
              "array([1, 2, 3, 4, 5, 6, 7, 8, 9])"
            ]
          },
          "metadata": {
            "tags": []
          },
          "execution_count": 21
        }
      ]
    },
    {
      "cell_type": "code",
      "metadata": {
        "id": "P3rSilt15BK1"
      },
      "source": [
        "#indexing using multi-diemensional array"
      ],
      "execution_count": 22,
      "outputs": []
    },
    {
      "cell_type": "code",
      "metadata": {
        "colab": {
          "base_uri": "https://localhost:8080/"
        },
        "id": "PZDsct655J8N",
        "outputId": "245d0898-b895-4450-b011-d791b0e5b91b"
      },
      "source": [
        "arr1"
      ],
      "execution_count": 23,
      "outputs": [
        {
          "output_type": "execute_result",
          "data": {
            "text/plain": [
              "array([[1, 2, 3, 4, 5],\n",
              "       [2, 3, 4, 5, 6],\n",
              "       [3, 4, 5, 6, 7]])"
            ]
          },
          "metadata": {
            "tags": []
          },
          "execution_count": 23
        }
      ]
    },
    {
      "cell_type": "code",
      "metadata": {
        "colab": {
          "base_uri": "https://localhost:8080/"
        },
        "id": "Y50Kyckx5Ot5",
        "outputId": "a2b0aa11-4056-4820-8c67-46087f80e71c"
      },
      "source": [
        "arr1[:,:]"
      ],
      "execution_count": 26,
      "outputs": [
        {
          "output_type": "execute_result",
          "data": {
            "text/plain": [
              "array([[1, 2, 3, 4, 5],\n",
              "       [2, 3, 4, 5, 6],\n",
              "       [3, 4, 5, 6, 7]])"
            ]
          },
          "metadata": {
            "tags": []
          },
          "execution_count": 26
        }
      ]
    },
    {
      "cell_type": "code",
      "metadata": {
        "colab": {
          "base_uri": "https://localhost:8080/"
        },
        "id": "qivb75rQ5Sdi",
        "outputId": "1e42c596-9f53-4d45-c15e-03ef9e12384e"
      },
      "source": [
        "arr1[0:2,0:2]"
      ],
      "execution_count": 27,
      "outputs": [
        {
          "output_type": "execute_result",
          "data": {
            "text/plain": [
              "array([[1, 2],\n",
              "       [2, 3]])"
            ]
          },
          "metadata": {
            "tags": []
          },
          "execution_count": 27
        }
      ]
    },
    {
      "cell_type": "code",
      "metadata": {
        "colab": {
          "base_uri": "https://localhost:8080/"
        },
        "id": "NmjKBiy-5ofd",
        "outputId": "1505c98f-d111-433e-8d77-375ed4d6a24a"
      },
      "source": [
        "arr1[1:,3:]"
      ],
      "execution_count": 29,
      "outputs": [
        {
          "output_type": "execute_result",
          "data": {
            "text/plain": [
              "array([[5, 6],\n",
              "       [6, 7]])"
            ]
          },
          "metadata": {
            "tags": []
          },
          "execution_count": 29
        }
      ]
    },
    {
      "cell_type": "code",
      "metadata": {
        "colab": {
          "base_uri": "https://localhost:8080/"
        },
        "id": "35jL4IoQ5x77",
        "outputId": "f3aadda3-55d1-49bc-af62-842333d7e69a"
      },
      "source": [
        "arr1[1:,2:4]"
      ],
      "execution_count": 31,
      "outputs": [
        {
          "output_type": "execute_result",
          "data": {
            "text/plain": [
              "array([[4, 5],\n",
              "       [5, 6]])"
            ]
          },
          "metadata": {
            "tags": []
          },
          "execution_count": 31
        }
      ]
    },
    {
      "cell_type": "code",
      "metadata": {
        "colab": {
          "base_uri": "https://localhost:8080/"
        },
        "id": "9bnGp0KP6BiC",
        "outputId": "6e6b01b9-8f20-45bf-cb18-5c7f4138baea"
      },
      "source": [
        "arr1[1:,1:3]"
      ],
      "execution_count": 32,
      "outputs": [
        {
          "output_type": "execute_result",
          "data": {
            "text/plain": [
              "array([[3, 4],\n",
              "       [4, 5]])"
            ]
          },
          "metadata": {
            "tags": []
          },
          "execution_count": 32
        }
      ]
    },
    {
      "cell_type": "code",
      "metadata": {
        "colab": {
          "base_uri": "https://localhost:8080/"
        },
        "id": "YetcALhJ6OHM",
        "outputId": "e984f4d5-3561-4bde-a73e-cf8462568fb6"
      },
      "source": [
        "#inbuilt function in numpy \r\n",
        "# 1.araange it helps in creating 1-D array\r\n",
        "arr_2=np.arange(0,11)\r\n",
        "arr_2"
      ],
      "execution_count": 36,
      "outputs": [
        {
          "output_type": "execute_result",
          "data": {
            "text/plain": [
              "array([ 0,  1,  2,  3,  4,  5,  6,  7,  8,  9, 10])"
            ]
          },
          "metadata": {
            "tags": []
          },
          "execution_count": 36
        }
      ]
    },
    {
      "cell_type": "code",
      "metadata": {
        "colab": {
          "base_uri": "https://localhost:8080/"
        },
        "id": "wCdCWP9y6uTJ",
        "outputId": "1e438f76-4cff-4332-f0f4-9c32b4195898"
      },
      "source": [
        "# we can use step to differ array values \r\n",
        "arr_2=np.arange(0,10,step=2)\r\n",
        "arr_2"
      ],
      "execution_count": 38,
      "outputs": [
        {
          "output_type": "execute_result",
          "data": {
            "text/plain": [
              "array([0, 2, 4, 6, 8])"
            ]
          },
          "metadata": {
            "tags": []
          },
          "execution_count": 38
        }
      ]
    },
    {
      "cell_type": "code",
      "metadata": {
        "colab": {
          "base_uri": "https://localhost:8080/"
        },
        "id": "a9-siRKL7FdU",
        "outputId": "0f20651f-8e1e-45b4-ef39-8a82cf914cd4"
      },
      "source": [
        "# linspace= it helps to eqally divide no of elements from start to end\r\n",
        "np.linspace(1,10,50) \r\n"
      ],
      "execution_count": 39,
      "outputs": [
        {
          "output_type": "execute_result",
          "data": {
            "text/plain": [
              "array([ 1.        ,  1.18367347,  1.36734694,  1.55102041,  1.73469388,\n",
              "        1.91836735,  2.10204082,  2.28571429,  2.46938776,  2.65306122,\n",
              "        2.83673469,  3.02040816,  3.20408163,  3.3877551 ,  3.57142857,\n",
              "        3.75510204,  3.93877551,  4.12244898,  4.30612245,  4.48979592,\n",
              "        4.67346939,  4.85714286,  5.04081633,  5.2244898 ,  5.40816327,\n",
              "        5.59183673,  5.7755102 ,  5.95918367,  6.14285714,  6.32653061,\n",
              "        6.51020408,  6.69387755,  6.87755102,  7.06122449,  7.24489796,\n",
              "        7.42857143,  7.6122449 ,  7.79591837,  7.97959184,  8.16326531,\n",
              "        8.34693878,  8.53061224,  8.71428571,  8.89795918,  9.08163265,\n",
              "        9.26530612,  9.44897959,  9.63265306,  9.81632653, 10.        ])"
            ]
          },
          "metadata": {
            "tags": []
          },
          "execution_count": 39
        }
      ]
    },
    {
      "cell_type": "code",
      "metadata": {
        "id": "n8GpVykn7aIG"
      },
      "source": [
        "#copy function and broad casting\r\n",
        "arr[3:]=21"
      ],
      "execution_count": 40,
      "outputs": []
    },
    {
      "cell_type": "code",
      "metadata": {
        "colab": {
          "base_uri": "https://localhost:8080/"
        },
        "id": "QfFXfUWr7p_r",
        "outputId": "bf4e2599-236e-41fa-8e47-562613b8d55f"
      },
      "source": [
        "arr"
      ],
      "execution_count": 41,
      "outputs": [
        {
          "output_type": "execute_result",
          "data": {
            "text/plain": [
              "array([ 1,  2,  3, 21, 21, 21, 21, 21, 21])"
            ]
          },
          "metadata": {
            "tags": []
          },
          "execution_count": 41
        }
      ]
    },
    {
      "cell_type": "code",
      "metadata": {
        "id": "8J7kaQPx7rA0"
      },
      "source": [
        "# this operation uses reference, so it changes the elements in both arr and arr_1 to avoid this we use copy.\r\n",
        "arr_1=arr"
      ],
      "execution_count": 47,
      "outputs": []
    },
    {
      "cell_type": "code",
      "metadata": {
        "id": "NOOKF2KP7yKX"
      },
      "source": [
        "arr_1[3:]=400"
      ],
      "execution_count": 43,
      "outputs": []
    },
    {
      "cell_type": "code",
      "metadata": {
        "colab": {
          "base_uri": "https://localhost:8080/"
        },
        "id": "awIwpnV571PY",
        "outputId": "1de69442-ca78-48a3-dac2-bdec75f889cc"
      },
      "source": [
        "arr_1"
      ],
      "execution_count": 44,
      "outputs": [
        {
          "output_type": "execute_result",
          "data": {
            "text/plain": [
              "array([  1,   2,   3, 400, 400, 400, 400, 400, 400])"
            ]
          },
          "metadata": {
            "tags": []
          },
          "execution_count": 44
        }
      ]
    },
    {
      "cell_type": "code",
      "metadata": {
        "colab": {
          "base_uri": "https://localhost:8080/"
        },
        "id": "VkuDy_ao72Zi",
        "outputId": "879f694f-65a9-497a-d9d9-c7b159b87519"
      },
      "source": [
        "arr"
      ],
      "execution_count": 45,
      "outputs": [
        {
          "output_type": "execute_result",
          "data": {
            "text/plain": [
              "array([  1,   2,   3, 400, 400, 400, 400, 400, 400])"
            ]
          },
          "metadata": {
            "tags": []
          },
          "execution_count": 45
        }
      ]
    },
    {
      "cell_type": "code",
      "metadata": {
        "id": "rsOMGWkv73J6"
      },
      "source": [
        "#copy\r\n",
        "arr1=arr.copy()"
      ],
      "execution_count": 50,
      "outputs": []
    },
    {
      "cell_type": "code",
      "metadata": {
        "id": "jAJ8xSRW8QTT"
      },
      "source": [
        "arr1[3:]=200"
      ],
      "execution_count": 51,
      "outputs": []
    },
    {
      "cell_type": "code",
      "metadata": {
        "colab": {
          "base_uri": "https://localhost:8080/"
        },
        "id": "dU7ByN258XDW",
        "outputId": "b2c3e375-1e71-48be-e80d-09b5fdc2bfbe"
      },
      "source": [
        "arr1"
      ],
      "execution_count": 52,
      "outputs": [
        {
          "output_type": "execute_result",
          "data": {
            "text/plain": [
              "array([  1,   2,   3, 200, 200, 200, 200, 200, 200])"
            ]
          },
          "metadata": {
            "tags": []
          },
          "execution_count": 52
        }
      ]
    },
    {
      "cell_type": "code",
      "metadata": {
        "colab": {
          "base_uri": "https://localhost:8080/"
        },
        "id": "jobdu9wy8cND",
        "outputId": "cb5922c5-08f3-4f7d-9d72-b5702e8307f4"
      },
      "source": [
        "arr"
      ],
      "execution_count": 53,
      "outputs": [
        {
          "output_type": "execute_result",
          "data": {
            "text/plain": [
              "array([  1,   2,   3, 400, 400, 400, 400, 400, 400])"
            ]
          },
          "metadata": {
            "tags": []
          },
          "execution_count": 53
        }
      ]
    },
    {
      "cell_type": "code",
      "metadata": {
        "colab": {
          "base_uri": "https://localhost:8080/"
        },
        "id": "A90sAijV8dVp",
        "outputId": "95721a90-cb10-4fb8-ff08-61f0b88cd763"
      },
      "source": [
        "## conditions useful in EDA\r\n",
        "a=2\r\n",
        "arr/a"
      ],
      "execution_count": 56,
      "outputs": [
        {
          "output_type": "execute_result",
          "data": {
            "text/plain": [
              "array([  0.5,   1. ,   1.5, 200. , 200. , 200. , 200. , 200. , 200. ])"
            ]
          },
          "metadata": {
            "tags": []
          },
          "execution_count": 56
        }
      ]
    },
    {
      "cell_type": "code",
      "metadata": {
        "colab": {
          "base_uri": "https://localhost:8080/"
        },
        "id": "IAbKzg6o8qjY",
        "outputId": "7372a980-d776-49f9-bfd3-f0af127c8dd2"
      },
      "source": [
        "arr<a"
      ],
      "execution_count": 55,
      "outputs": [
        {
          "output_type": "execute_result",
          "data": {
            "text/plain": [
              "array([ True, False, False, False, False, False, False, False, False])"
            ]
          },
          "metadata": {
            "tags": []
          },
          "execution_count": 55
        }
      ]
    },
    {
      "cell_type": "code",
      "metadata": {
        "colab": {
          "base_uri": "https://localhost:8080/"
        },
        "id": "_s-kL5wi8s5-",
        "outputId": "97cad33c-b4c9-4259-93ae-568ae2ba0400"
      },
      "source": [
        "arr[arr<200]"
      ],
      "execution_count": 58,
      "outputs": [
        {
          "output_type": "execute_result",
          "data": {
            "text/plain": [
              "array([1, 2, 3])"
            ]
          },
          "metadata": {
            "tags": []
          },
          "execution_count": 58
        }
      ]
    },
    {
      "cell_type": "code",
      "metadata": {
        "id": "rzGYgfuj8y5a"
      },
      "source": [
        "#using both arrange and reshape\r\n",
        "arr_3=np.arange(1,11).reshape(5,2)"
      ],
      "execution_count": 62,
      "outputs": []
    },
    {
      "cell_type": "code",
      "metadata": {
        "colab": {
          "base_uri": "https://localhost:8080/"
        },
        "id": "CgKiMa5v9CE7",
        "outputId": "0a6c47e6-9f46-4d2e-8a83-fb1c28c05260"
      },
      "source": [
        "arr_3"
      ],
      "execution_count": 63,
      "outputs": [
        {
          "output_type": "execute_result",
          "data": {
            "text/plain": [
              "array([[ 1,  2],\n",
              "       [ 3,  4],\n",
              "       [ 5,  6],\n",
              "       [ 7,  8],\n",
              "       [ 9, 10]])"
            ]
          },
          "metadata": {
            "tags": []
          },
          "execution_count": 63
        }
      ]
    },
    {
      "cell_type": "code",
      "metadata": {
        "colab": {
          "base_uri": "https://localhost:8080/"
        },
        "id": "XZKeaOus9QbW",
        "outputId": "e72250c9-481e-4ef1-bcf6-cabf0bc55f01"
      },
      "source": [
        "#random distribution\r\n",
        "np.random.rand(3,5)"
      ],
      "execution_count": 67,
      "outputs": [
        {
          "output_type": "execute_result",
          "data": {
            "text/plain": [
              "array([[0.21066765, 0.85793102, 0.90020183, 0.62052653, 0.05386853],\n",
              "       [0.76079429, 0.08163067, 0.90432709, 0.06556113, 0.952728  ],\n",
              "       [0.16097443, 0.93280572, 0.23721166, 0.36736213, 0.27363232]])"
            ]
          },
          "metadata": {
            "tags": []
          },
          "execution_count": 67
        }
      ]
    },
    {
      "cell_type": "code",
      "metadata": {
        "colab": {
          "base_uri": "https://localhost:8080/"
        },
        "id": "KzKOFAjh9n9K",
        "outputId": "b0c04952-67fe-46f6-f405-25b8e7c5addc"
      },
      "source": [
        "#random.random only defines row\r\n",
        "np.random.random(3)"
      ],
      "execution_count": 68,
      "outputs": [
        {
          "output_type": "execute_result",
          "data": {
            "text/plain": [
              "array([0.96759412, 0.33348019, 0.85579912])"
            ]
          },
          "metadata": {
            "tags": []
          },
          "execution_count": 68
        }
      ]
    },
    {
      "cell_type": "code",
      "metadata": {
        "id": "O52-v3Ys96h1"
      },
      "source": [
        "#random.randn gives u the values that are of standard normal distribution\r\n",
        "arr_4=np.random.randn(3,5)"
      ],
      "execution_count": 71,
      "outputs": []
    },
    {
      "cell_type": "code",
      "metadata": {
        "id": "7OHnA-aQ-F83"
      },
      "source": [
        " import seaborn as sns\r\n",
        " import pandas as pd"
      ],
      "execution_count": 73,
      "outputs": []
    },
    {
      "cell_type": "code",
      "metadata": {
        "colab": {
          "base_uri": "https://localhost:8080/",
          "height": 337
        },
        "id": "Cg2_TSCI-OvG",
        "outputId": "9818a881-31eb-44a9-b7c2-30d6b8b820c6"
      },
      "source": [
        "sns.distplot(pd.DataFrame(arr_4.reshape(15,1)))"
      ],
      "execution_count": 75,
      "outputs": [
        {
          "output_type": "stream",
          "text": [
            "/usr/local/lib/python3.6/dist-packages/seaborn/distributions.py:2557: FutureWarning: `distplot` is a deprecated function and will be removed in a future version. Please adapt your code to use either `displot` (a figure-level function with similar flexibility) or `histplot` (an axes-level function for histograms).\n",
            "  warnings.warn(msg, FutureWarning)\n"
          ],
          "name": "stderr"
        },
        {
          "output_type": "execute_result",
          "data": {
            "text/plain": [
              "<matplotlib.axes._subplots.AxesSubplot at 0x7f9de4e0bcc0>"
            ]
          },
          "metadata": {
            "tags": []
          },
          "execution_count": 75
        },
        {
          "output_type": "display_data",
          "data": {
            "image/png": "[encoded data removed]",
            "text/plain": [
              "<Figure size 432x288 with 1 Axes>"
            ]
          },
          "metadata": {
            "tags": [],
            "needs_background": "light"
          }
        }
      ]
    },
    {
      "cell_type": "code",
      "metadata": {
        "colab": {
          "base_uri": "https://localhost:8080/"
        },
        "id": "HooeT9wm-gX8",
        "outputId": "dbb638dd-e127-40e6-bcaf-929fbbe90356"
      },
      "source": [
        "np.random.randint(0,30,8)"
      ],
      "execution_count": 77,
      "outputs": [
        {
          "output_type": "execute_result",
          "data": {
            "text/plain": [
              "array([19, 29, 14,  5, 26, 20, 11, 12])"
            ]
          },
          "metadata": {
            "tags": []
          },
          "execution_count": 77
        }
      ]
    },
    {
      "cell_type": "code",
      "metadata": {
        "colab": {
          "base_uri": "https://localhost:8080/"
        },
        "id": "uv-0n5Ro-12R",
        "outputId": "bd3bfa14-90cc-4dcd-8375-bbbb5e369909"
      },
      "source": [
        "np.random.random_sample((1,10))"
      ],
      "execution_count": 81,
      "outputs": [
        {
          "output_type": "execute_result",
          "data": {
            "text/plain": [
              "array([[0.94994476, 0.33635788, 0.89032409, 0.65936825, 0.34346404,\n",
              "        0.67881123, 0.1880098 , 0.8729957 , 0.84985436, 0.44892544]])"
            ]
          },
          "metadata": {
            "tags": []
          },
          "execution_count": 81
        }
      ]
    },
    {
      "cell_type": "code",
      "metadata": {
        "id": "jVbnmyqW-6vI"
      },
      "source": [
        ""
      ],
      "execution_count": null,
      "outputs": []
    }
  ]
}