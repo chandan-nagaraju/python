{
  "nbformat": 4,
  "nbformat_minor": 0,
  "metadata": {
    "colab": {
      "name": "1.1.ipynb",
      "provenance": [],
      "authorship_tag": "ABX9TyMAwaH4i9BUSIv+tWWNOh25",
      "include_colab_link": true
    },
    "kernelspec": {
      "name": "python3",
      "display_name": "Python 3"
    }
  },
  "cells": [
    {
      "cell_type": "markdown",
      "metadata": {
        "id": "view-in-github",
        "colab_type": "text"
      },
      "source": [
        "<a href=\"https://colab.research.google.com/github/chandan-nagaraju/python/blob/main/1_1.ipynb\" target=\"_parent\"><img src=\"https://colab.research.google.com/assets/colab-badge.svg\" alt=\"Open In Colab\"/></a>"
      ]
    },
    {
      "cell_type": "code",
      "metadata": {
        "id": "UCS9sj7wU3Wq"
      },
      "source": [
        "##list comprehension\r\n",
        "lst=[1,2,3,4]\r\n",
        "lst1=[i**2 for i in lst]"
      ],
      "execution_count": 1,
      "outputs": []
    },
    {
      "cell_type": "code",
      "metadata": {
        "colab": {
          "base_uri": "https://localhost:8080/"
        },
        "id": "NaHO2KDHUInw",
        "outputId": "38a4aa4b-27a8-487a-93c1-375ff5f8b63a"
      },
      "source": [
        "lst1"
      ],
      "execution_count": 2,
      "outputs": [
        {
          "output_type": "execute_result",
          "data": {
            "text/plain": [
              "[1, 4, 9, 16]"
            ]
          },
          "metadata": {
            "tags": []
          },
          "execution_count": 2
        }
      ]
    },
    {
      "cell_type": "code",
      "metadata": {
        "id": "JK2jGTqzUOD-"
      },
      "source": [
        "lst2=[i for i in range(2000,3200,1) if (i%7==0) & (i%5!=0)]"
      ],
      "execution_count": 3,
      "outputs": []
    },
    {
      "cell_type": "code",
      "metadata": {
        "colab": {
          "base_uri": "https://localhost:8080/"
        },
        "id": "7PS85AEKU-gA",
        "outputId": "7491a3f8-739e-40a0-ca46-b5790c5e5c7e"
      },
      "source": [
        "lst2"
      ],
      "execution_count": 4,
      "outputs": [
        {
          "output_type": "execute_result",
          "data": {
            "text/plain": [
              "[2002,\n",
              " 2009,\n",
              " 2016,\n",
              " 2023,\n",
              " 2037,\n",
              " 2044,\n",
              " 2051,\n",
              " 2058,\n",
              " 2072,\n",
              " 2079,\n",
              " 2086,\n",
              " 2093,\n",
              " 2107,\n",
              " 2114,\n",
              " 2121,\n",
              " 2128,\n",
              " 2142,\n",
              " 2149,\n",
              " 2156,\n",
              " 2163,\n",
              " 2177,\n",
              " 2184,\n",
              " 2191,\n",
              " 2198,\n",
              " 2212,\n",
              " 2219,\n",
              " 2226,\n",
              " 2233,\n",
              " 2247,\n",
              " 2254,\n",
              " 2261,\n",
              " 2268,\n",
              " 2282,\n",
              " 2289,\n",
              " 2296,\n",
              " 2303,\n",
              " 2317,\n",
              " 2324,\n",
              " 2331,\n",
              " 2338,\n",
              " 2352,\n",
              " 2359,\n",
              " 2366,\n",
              " 2373,\n",
              " 2387,\n",
              " 2394,\n",
              " 2401,\n",
              " 2408,\n",
              " 2422,\n",
              " 2429,\n",
              " 2436,\n",
              " 2443,\n",
              " 2457,\n",
              " 2464,\n",
              " 2471,\n",
              " 2478,\n",
              " 2492,\n",
              " 2499,\n",
              " 2506,\n",
              " 2513,\n",
              " 2527,\n",
              " 2534,\n",
              " 2541,\n",
              " 2548,\n",
              " 2562,\n",
              " 2569,\n",
              " 2576,\n",
              " 2583,\n",
              " 2597,\n",
              " 2604,\n",
              " 2611,\n",
              " 2618,\n",
              " 2632,\n",
              " 2639,\n",
              " 2646,\n",
              " 2653,\n",
              " 2667,\n",
              " 2674,\n",
              " 2681,\n",
              " 2688,\n",
              " 2702,\n",
              " 2709,\n",
              " 2716,\n",
              " 2723,\n",
              " 2737,\n",
              " 2744,\n",
              " 2751,\n",
              " 2758,\n",
              " 2772,\n",
              " 2779,\n",
              " 2786,\n",
              " 2793,\n",
              " 2807,\n",
              " 2814,\n",
              " 2821,\n",
              " 2828,\n",
              " 2842,\n",
              " 2849,\n",
              " 2856,\n",
              " 2863,\n",
              " 2877,\n",
              " 2884,\n",
              " 2891,\n",
              " 2898,\n",
              " 2912,\n",
              " 2919,\n",
              " 2926,\n",
              " 2933,\n",
              " 2947,\n",
              " 2954,\n",
              " 2961,\n",
              " 2968,\n",
              " 2982,\n",
              " 2989,\n",
              " 2996,\n",
              " 3003,\n",
              " 3017,\n",
              " 3024,\n",
              " 3031,\n",
              " 3038,\n",
              " 3052,\n",
              " 3059,\n",
              " 3066,\n",
              " 3073,\n",
              " 3087,\n",
              " 3094,\n",
              " 3101,\n",
              " 3108,\n",
              " 3122,\n",
              " 3129,\n",
              " 3136,\n",
              " 3143,\n",
              " 3157,\n",
              " 3164,\n",
              " 3171,\n",
              " 3178,\n",
              " 3192,\n",
              " 3199]"
            ]
          },
          "metadata": {
            "tags": []
          },
          "execution_count": 4
        }
      ]
    },
    {
      "cell_type": "code",
      "metadata": {
        "id": "lpX7tC1OU_zF"
      },
      "source": [
        "#assignment\r\n",
        "lst3=sum([i for i in range(20) if i%2==0])"
      ],
      "execution_count": 14,
      "outputs": []
    },
    {
      "cell_type": "code",
      "metadata": {
        "colab": {
          "base_uri": "https://localhost:8080/"
        },
        "id": "88Xecq5ZV5Ap",
        "outputId": "8cfe00f9-587c-4844-c63b-75801de80e88"
      },
      "source": [
        "lst3"
      ],
      "execution_count": 15,
      "outputs": [
        {
          "output_type": "execute_result",
          "data": {
            "text/plain": [
              "90"
            ]
          },
          "metadata": {
            "tags": []
          },
          "execution_count": 15
        }
      ]
    },
    {
      "cell_type": "code",
      "metadata": {
        "colab": {
          "base_uri": "https://localhost:8080/"
        },
        "id": "uMXZtWuPV51T",
        "outputId": "128c9625-6426-4405-c4fb-fd7a673b8996"
      },
      "source": [
        "##tuples#immutable#tuple doesn't support assignment \r\n",
        "#indexing techniques is same\r\n",
        "#constructing tuples\r\n",
        "l1=(1,2,3,4,5)\r\n",
        "type(l1)"
      ],
      "execution_count": 26,
      "outputs": [
        {
          "output_type": "execute_result",
          "data": {
            "text/plain": [
              "tuple"
            ]
          },
          "metadata": {
            "tags": []
          },
          "execution_count": 26
        }
      ]
    },
    {
      "cell_type": "code",
      "metadata": {
        "id": "UFx86oOoXN4K"
      },
      "source": [
        "#converting list into tuple\r\n",
        "l2=tuple(lst)"
      ],
      "execution_count": 27,
      "outputs": []
    },
    {
      "cell_type": "code",
      "metadata": {
        "colab": {
          "base_uri": "https://localhost:8080/"
        },
        "id": "34Eef0smXYpB",
        "outputId": "7df73fc3-b939-43fe-b9c3-b7851303d64c"
      },
      "source": [
        "l2"
      ],
      "execution_count": 28,
      "outputs": [
        {
          "output_type": "execute_result",
          "data": {
            "text/plain": [
              "(1, 2, 3, 4)"
            ]
          },
          "metadata": {
            "tags": []
          },
          "execution_count": 28
        }
      ]
    },
    {
      "cell_type": "code",
      "metadata": {
        "colab": {
          "base_uri": "https://localhost:8080/"
        },
        "id": "YkmUgMWfXZrZ",
        "outputId": "378bbc22-4f1e-4539-b63f-ec4c203a9aa4"
      },
      "source": [
        "type(l2)"
      ],
      "execution_count": 29,
      "outputs": [
        {
          "output_type": "execute_result",
          "data": {
            "text/plain": [
              "tuple"
            ]
          },
          "metadata": {
            "tags": []
          },
          "execution_count": 29
        }
      ]
    },
    {
      "cell_type": "code",
      "metadata": {
        "id": "9-ZhS59rYuCW"
      },
      "source": [
        "l3=(\"chandan\",\"sachin\")"
      ],
      "execution_count": 32,
      "outputs": []
    },
    {
      "cell_type": "code",
      "metadata": {
        "colab": {
          "base_uri": "https://localhost:8080/"
        },
        "id": "6UubTzh2XbOJ",
        "outputId": "85a0e47d-4391-485b-fce2-074d1779f138"
      },
      "source": [
        "[i[::-1] for i in l3]"
      ],
      "execution_count": 34,
      "outputs": [
        {
          "output_type": "execute_result",
          "data": {
            "text/plain": [
              "['nadnahc', 'nihcas']"
            ]
          },
          "metadata": {
            "tags": []
          },
          "execution_count": 34
        }
      ]
    },
    {
      "cell_type": "code",
      "metadata": {
        "colab": {
          "base_uri": "https://localhost:8080/"
        },
        "id": "eHA6kx5_Yi3B",
        "outputId": "577b1372-f484-459b-e075-f14e94fcdd17"
      },
      "source": [
        "l2.index(4)"
      ],
      "execution_count": 35,
      "outputs": [
        {
          "output_type": "execute_result",
          "data": {
            "text/plain": [
              "3"
            ]
          },
          "metadata": {
            "tags": []
          },
          "execution_count": 35
        }
      ]
    },
    {
      "cell_type": "code",
      "metadata": {
        "colab": {
          "base_uri": "https://localhost:8080/"
        },
        "id": "VgrFhFQMZDK1",
        "outputId": "80b59be8-6aed-4a93-c442-49d3da313ffb"
      },
      "source": [
        "#sets\r\n",
        "set([1,2,3,4,5,6])\r\n"
      ],
      "execution_count": 36,
      "outputs": [
        {
          "output_type": "execute_result",
          "data": {
            "text/plain": [
              "{1, 2, 3, 4, 5, 6}"
            ]
          },
          "metadata": {
            "tags": []
          },
          "execution_count": 36
        }
      ]
    },
    {
      "cell_type": "code",
      "metadata": {
        "id": "LlGu9bnSeaXV"
      },
      "source": [
        "s1={1,2,2,3,4,7,8,6,1,3,4,5,6,7,8}"
      ],
      "execution_count": 40,
      "outputs": []
    },
    {
      "cell_type": "code",
      "metadata": {
        "colab": {
          "base_uri": "https://localhost:8080/"
        },
        "id": "pDmzFxbRedfK",
        "outputId": "4d965e26-10ec-4a72-d015-e5885aac4c93"
      },
      "source": [
        "type(s1)"
      ],
      "execution_count": 41,
      "outputs": [
        {
          "output_type": "execute_result",
          "data": {
            "text/plain": [
              "set"
            ]
          },
          "metadata": {
            "tags": []
          },
          "execution_count": 41
        }
      ]
    },
    {
      "cell_type": "code",
      "metadata": {
        "id": "SBI7vs9kerht"
      },
      "source": [
        "s1.add(9)"
      ],
      "execution_count": 44,
      "outputs": []
    },
    {
      "cell_type": "code",
      "metadata": {
        "colab": {
          "base_uri": "https://localhost:8080/"
        },
        "id": "tZ3TJ-IIfA5-",
        "outputId": "af0c44da-97fa-463c-96a0-9963df09e73f"
      },
      "source": [
        "s1"
      ],
      "execution_count": 45,
      "outputs": [
        {
          "output_type": "execute_result",
          "data": {
            "text/plain": [
              "{1, 2, 3, 4, 5, 6, 7, 8, 9}"
            ]
          },
          "metadata": {
            "tags": []
          },
          "execution_count": 45
        }
      ]
    },
    {
      "cell_type": "code",
      "metadata": {
        "id": "v01zh5JPfGlB"
      },
      "source": [
        "s2={1,3,4,6,8,9,10,11,14,17,12}"
      ],
      "execution_count": 46,
      "outputs": []
    },
    {
      "cell_type": "code",
      "metadata": {
        "colab": {
          "base_uri": "https://localhost:8080/"
        },
        "id": "_JrLMQhofRFa",
        "outputId": "93a877ad-7b69-40b0-c866-ef13c3b0809b"
      },
      "source": [
        "s1.union(s2)"
      ],
      "execution_count": 47,
      "outputs": [
        {
          "output_type": "execute_result",
          "data": {
            "text/plain": [
              "{1, 2, 3, 4, 5, 6, 7, 8, 9, 10, 11, 12, 14, 17}"
            ]
          },
          "metadata": {
            "tags": []
          },
          "execution_count": 47
        }
      ]
    },
    {
      "cell_type": "code",
      "metadata": {
        "colab": {
          "base_uri": "https://localhost:8080/"
        },
        "id": "Hz63lNzHfURi",
        "outputId": "44b8af41-17de-45d9-9ca7-eb0f060ab49d"
      },
      "source": [
        "s1"
      ],
      "execution_count": 48,
      "outputs": [
        {
          "output_type": "execute_result",
          "data": {
            "text/plain": [
              "{1, 2, 3, 4, 5, 6, 7, 8, 9}"
            ]
          },
          "metadata": {
            "tags": []
          },
          "execution_count": 48
        }
      ]
    },
    {
      "cell_type": "code",
      "metadata": {
        "colab": {
          "base_uri": "https://localhost:8080/"
        },
        "id": "Qyknnt7ffYZ7",
        "outputId": "f2f4b9a2-039c-4856-d80b-20d469845687"
      },
      "source": [
        "s1.intersection(s2)"
      ],
      "execution_count": 49,
      "outputs": [
        {
          "output_type": "execute_result",
          "data": {
            "text/plain": [
              "{1, 3, 4, 6, 8, 9}"
            ]
          },
          "metadata": {
            "tags": []
          },
          "execution_count": 49
        }
      ]
    },
    {
      "cell_type": "code",
      "metadata": {
        "colab": {
          "base_uri": "https://localhost:8080/"
        },
        "id": "G8cTGATwfbQf",
        "outputId": "34a61dc9-5c0c-4b13-cac4-fd93e02e7a93"
      },
      "source": [
        "s1"
      ],
      "execution_count": 50,
      "outputs": [
        {
          "output_type": "execute_result",
          "data": {
            "text/plain": [
              "{1, 2, 3, 4, 5, 6, 7, 8, 9}"
            ]
          },
          "metadata": {
            "tags": []
          },
          "execution_count": 50
        }
      ]
    },
    {
      "cell_type": "code",
      "metadata": {
        "colab": {
          "base_uri": "https://localhost:8080/"
        },
        "id": "OgRiQg1MfdBe",
        "outputId": "b0b0e193-b3a0-4895-b19c-54dd3a0f1756"
      },
      "source": [
        "dir(s1)"
      ],
      "execution_count": 51,
      "outputs": [
        {
          "output_type": "execute_result",
          "data": {
            "text/plain": [
              "['__and__',\n",
              " '__class__',\n",
              " '__contains__',\n",
              " '__delattr__',\n",
              " '__dir__',\n",
              " '__doc__',\n",
              " '__eq__',\n",
              " '__format__',\n",
              " '__ge__',\n",
              " '__getattribute__',\n",
              " '__gt__',\n",
              " '__hash__',\n",
              " '__iand__',\n",
              " '__init__',\n",
              " '__init_subclass__',\n",
              " '__ior__',\n",
              " '__isub__',\n",
              " '__iter__',\n",
              " '__ixor__',\n",
              " '__le__',\n",
              " '__len__',\n",
              " '__lt__',\n",
              " '__ne__',\n",
              " '__new__',\n",
              " '__or__',\n",
              " '__rand__',\n",
              " '__reduce__',\n",
              " '__reduce_ex__',\n",
              " '__repr__',\n",
              " '__ror__',\n",
              " '__rsub__',\n",
              " '__rxor__',\n",
              " '__setattr__',\n",
              " '__sizeof__',\n",
              " '__str__',\n",
              " '__sub__',\n",
              " '__subclasshook__',\n",
              " '__xor__',\n",
              " 'add',\n",
              " 'clear',\n",
              " 'copy',\n",
              " 'difference',\n",
              " 'difference_update',\n",
              " 'discard',\n",
              " 'intersection',\n",
              " 'intersection_update',\n",
              " 'isdisjoint',\n",
              " 'issubset',\n",
              " 'issuperset',\n",
              " 'pop',\n",
              " 'remove',\n",
              " 'symmetric_difference',\n",
              " 'symmetric_difference_update',\n",
              " 'union',\n",
              " 'update']"
            ]
          },
          "metadata": {
            "tags": []
          },
          "execution_count": 51
        }
      ]
    },
    {
      "cell_type": "code",
      "metadata": {
        "colab": {
          "base_uri": "https://localhost:8080/"
        },
        "id": "sbjcxNxYfxWS",
        "outputId": "db0ce48a-49c0-49b1-bc88-42dc6f24b65b"
      },
      "source": [
        "s1.difference(s2)"
      ],
      "execution_count": 52,
      "outputs": [
        {
          "output_type": "execute_result",
          "data": {
            "text/plain": [
              "{2, 5, 7}"
            ]
          },
          "metadata": {
            "tags": []
          },
          "execution_count": 52
        }
      ]
    },
    {
      "cell_type": "code",
      "metadata": {
        "colab": {
          "base_uri": "https://localhost:8080/"
        },
        "id": "o9UsLbTUgLvT",
        "outputId": "dd7eaa07-1f57-4bbe-e467-53b5044e50d2"
      },
      "source": [
        "s2.difference(s1)"
      ],
      "execution_count": 53,
      "outputs": [
        {
          "output_type": "execute_result",
          "data": {
            "text/plain": [
              "{10, 11, 12, 14, 17}"
            ]
          },
          "metadata": {
            "tags": []
          },
          "execution_count": 53
        }
      ]
    },
    {
      "cell_type": "code",
      "metadata": {
        "colab": {
          "base_uri": "https://localhost:8080/"
        },
        "id": "0ZmNNyCygWJ4",
        "outputId": "4ed74842-d207-4c42-9ba0-3dec2dba2daf"
      },
      "source": [
        "s1.issubset(s2)"
      ],
      "execution_count": 54,
      "outputs": [
        {
          "output_type": "execute_result",
          "data": {
            "text/plain": [
              "False"
            ]
          },
          "metadata": {
            "tags": []
          },
          "execution_count": 54
        }
      ]
    },
    {
      "cell_type": "code",
      "metadata": {
        "colab": {
          "base_uri": "https://localhost:8080/"
        },
        "id": "UrQlXMtmhIBq",
        "outputId": "a550d8fe-dfaf-4c20-8942-99d2120bcdc2"
      },
      "source": [
        "s1.issuperset(s2)"
      ],
      "execution_count": 56,
      "outputs": [
        {
          "output_type": "execute_result",
          "data": {
            "text/plain": [
              "False"
            ]
          },
          "metadata": {
            "tags": []
          },
          "execution_count": 56
        }
      ]
    },
    {
      "cell_type": "code",
      "metadata": {
        "id": "20Q9wFFjhM7X"
      },
      "source": [
        "#dictionaries\r\n",
        "var={1:'chandan',2:'sachin',3:'chaitanya'}"
      ],
      "execution_count": 57,
      "outputs": []
    },
    {
      "cell_type": "code",
      "metadata": {
        "colab": {
          "base_uri": "https://localhost:8080/"
        },
        "id": "jUCbcEDNjewS",
        "outputId": "5608301f-ce8a-46b0-a229-0dfd2189a5c9"
      },
      "source": [
        "var.keys()"
      ],
      "execution_count": 58,
      "outputs": [
        {
          "output_type": "execute_result",
          "data": {
            "text/plain": [
              "dict_keys([1, 2, 3])"
            ]
          },
          "metadata": {
            "tags": []
          },
          "execution_count": 58
        }
      ]
    },
    {
      "cell_type": "code",
      "metadata": {
        "colab": {
          "base_uri": "https://localhost:8080/"
        },
        "id": "7tfFbxN2jhmF",
        "outputId": "3436437c-80e9-4217-834a-c3b617ff5588"
      },
      "source": [
        "var.values()"
      ],
      "execution_count": 59,
      "outputs": [
        {
          "output_type": "execute_result",
          "data": {
            "text/plain": [
              "dict_values(['chandan', 'sachin', 'chaitanya'])"
            ]
          },
          "metadata": {
            "tags": []
          },
          "execution_count": 59
        }
      ]
    },
    {
      "cell_type": "code",
      "metadata": {
        "colab": {
          "base_uri": "https://localhost:8080/",
          "height": 35
        },
        "id": "zv-lQJQ5jjjx",
        "outputId": "59040491-d2e2-4f00-bfbc-140f42b24a3f"
      },
      "source": [
        "var[1]"
      ],
      "execution_count": 60,
      "outputs": [
        {
          "output_type": "execute_result",
          "data": {
            "application/vnd.google.colaboratory.intrinsic+json": {
              "type": "string"
            },
            "text/plain": [
              "'chandan'"
            ]
          },
          "metadata": {
            "tags": []
          },
          "execution_count": 60
        }
      ]
    },
    {
      "cell_type": "code",
      "metadata": {
        "colab": {
          "base_uri": "https://localhost:8080/",
          "height": 35
        },
        "id": "vqDhfIkIjm1L",
        "outputId": "aef64a83-f61d-4164-8d82-932e9964ada7"
      },
      "source": [
        "var[2]"
      ],
      "execution_count": 61,
      "outputs": [
        {
          "output_type": "execute_result",
          "data": {
            "application/vnd.google.colaboratory.intrinsic+json": {
              "type": "string"
            },
            "text/plain": [
              "'sachin'"
            ]
          },
          "metadata": {
            "tags": []
          },
          "execution_count": 61
        }
      ]
    },
    {
      "cell_type": "code",
      "metadata": {
        "colab": {
          "base_uri": "https://localhost:8080/",
          "height": 35
        },
        "id": "OUeFnAa1joCG",
        "outputId": "aa6431df-d8fb-4c3b-8048-a29042aecdc0"
      },
      "source": [
        "var[3]"
      ],
      "execution_count": 63,
      "outputs": [
        {
          "output_type": "execute_result",
          "data": {
            "application/vnd.google.colaboratory.intrinsic+json": {
              "type": "string"
            },
            "text/plain": [
              "'chaitanya'"
            ]
          },
          "metadata": {
            "tags": []
          },
          "execution_count": 63
        }
      ]
    },
    {
      "cell_type": "code",
      "metadata": {
        "colab": {
          "base_uri": "https://localhost:8080/",
          "height": 35
        },
        "id": "n_M4AXEBjppJ",
        "outputId": "24ce8a24-6e13-46b1-8e14-ef4edce80930"
      },
      "source": [
        "var[3].upper()"
      ],
      "execution_count": 64,
      "outputs": [
        {
          "output_type": "execute_result",
          "data": {
            "application/vnd.google.colaboratory.intrinsic+json": {
              "type": "string"
            },
            "text/plain": [
              "'CHAITANYA'"
            ]
          },
          "metadata": {
            "tags": []
          },
          "execution_count": 64
        }
      ]
    },
    {
      "cell_type": "code",
      "metadata": {
        "colab": {
          "base_uri": "https://localhost:8080/",
          "height": 35
        },
        "id": "AVXvRgiCk9cF",
        "outputId": "5ef24d2c-04fd-45a6-9072-fe32ccf6d1d6"
      },
      "source": [
        "var[2].lower()"
      ],
      "execution_count": 65,
      "outputs": [
        {
          "output_type": "execute_result",
          "data": {
            "application/vnd.google.colaboratory.intrinsic+json": {
              "type": "string"
            },
            "text/plain": [
              "'sachin'"
            ]
          },
          "metadata": {
            "tags": []
          },
          "execution_count": 65
        }
      ]
    },
    {
      "cell_type": "code",
      "metadata": {
        "colab": {
          "base_uri": "https://localhost:8080/"
        },
        "id": "045n2rNLlDNy",
        "outputId": "816fae02-f5d4-4e55-c0f2-b98876c6d807"
      },
      "source": [
        "#dictionary comprehensions\r\n",
        "{x:x**2 for x in range(10)}"
      ],
      "execution_count": 66,
      "outputs": [
        {
          "output_type": "execute_result",
          "data": {
            "text/plain": [
              "{0: 0, 1: 1, 2: 4, 3: 9, 4: 16, 5: 25, 6: 36, 7: 49, 8: 64, 9: 81}"
            ]
          },
          "metadata": {
            "tags": []
          },
          "execution_count": 66
        }
      ]
    },
    {
      "cell_type": "markdown",
      "metadata": {
        "id": "sgKjTTrZuC3M"
      },
      "source": [
        "##Function"
      ]
    },
    {
      "cell_type": "code",
      "metadata": {
        "id": "2cEAFmu4mXyA"
      },
      "source": [
        "def greeting():\r\n",
        "  print('Hello.welcome to ineuron!') "
      ],
      "execution_count": 70,
      "outputs": []
    },
    {
      "cell_type": "code",
      "metadata": {
        "colab": {
          "base_uri": "https://localhost:8080/"
        },
        "id": "6zLSLajKvELy",
        "outputId": "de94a437-f7c4-40da-90de-b1a03164515e"
      },
      "source": [
        "greeting()"
      ],
      "execution_count": 71,
      "outputs": [
        {
          "output_type": "stream",
          "text": [
            "Hello.welcome to ineuron!\n"
          ],
          "name": "stdout"
        }
      ]
    },
    {
      "cell_type": "code",
      "metadata": {
        "id": "rC3BO9t9vFV2"
      },
      "source": [
        " def even_odd_sum(lst):\r\n",
        "   even_sum=0\r\n",
        "   odd_sum=0\r\n",
        "   for i in lst:\r\n",
        "     if i%2==0:\r\n",
        "       even_sum += i\r\n",
        "     else:\r\n",
        "       odd_sum += i\r\n",
        "   print(even_sum)\r\n",
        "   print(odd_sum)\r\n",
        "\r\n",
        "\r\n",
        "     "
      ],
      "execution_count": 76,
      "outputs": []
    },
    {
      "cell_type": "code",
      "metadata": {
        "colab": {
          "base_uri": "https://localhost:8080/"
        },
        "id": "q8DDRDRIwMHL",
        "outputId": "4a1bfb41-41e8-4234-db15-ab9b7f7946dd"
      },
      "source": [
        "even_odd_sum([11,22,33,44,55,66,77,88,99])"
      ],
      "execution_count": 77,
      "outputs": [
        {
          "output_type": "execute_result",
          "data": {
            "text/plain": [
              "(220, 275)"
            ]
          },
          "metadata": {
            "tags": []
          },
          "execution_count": 77
        }
      ]
    },
    {
      "cell_type": "code",
      "metadata": {
        "id": "ED5U2EYowUeD"
      },
      "source": [
        "def even_odd_sum(lst):\r\n",
        "   even_sum=0\r\n",
        "   odd_sum=0\r\n",
        "   for i in lst:\r\n",
        "     if i%2==0:\r\n",
        "       even_sum += i\r\n",
        "     else:\r\n",
        "       odd_sum += i\r\n",
        "   return even_sum, odd_sum"
      ],
      "execution_count": 78,
      "outputs": []
    },
    {
      "cell_type": "code",
      "metadata": {
        "colab": {
          "base_uri": "https://localhost:8080/"
        },
        "id": "kFVR1PKMxL84",
        "outputId": "d52f4689-d9a9-4d1f-bee0-8a8010f2bec0"
      },
      "source": [
        "even_sum, odd_sum=even_odd_sum([11,22,33,44,55,66,77,88,99])\r\n",
        "print(even_sum)\r\n",
        "print(odd_sum)"
      ],
      "execution_count": 82,
      "outputs": [
        {
          "output_type": "stream",
          "text": [
            "220\n",
            "275\n"
          ],
          "name": "stdout"
        }
      ]
    },
    {
      "cell_type": "code",
      "metadata": {
        "id": "aAV8rSTVxUbs"
      },
      "source": [
        "#assignments\r\n",
        "lst1=[2,3,4,5,6,7]\r\n",
        "lst2=[6,7,8,9,3,4]"
      ],
      "execution_count": 105,
      "outputs": []
    },
    {
      "cell_type": "code",
      "metadata": {
        "id": "0Gj3HfBux7uo"
      },
      "source": [
        "def sum_lst(lst1,lst2):\r\n",
        "  lst3=[]\r\n",
        "  for i,j in zip(lst1,lst2):\r\n",
        "    lst3.append(i+j)\r\n",
        "  return lst3\r\n"
      ],
      "execution_count": 106,
      "outputs": []
    },
    {
      "cell_type": "code",
      "metadata": {
        "colab": {
          "base_uri": "https://localhost:8080/"
        },
        "id": "SmYdWB_YyOdI",
        "outputId": "10ef9269-a3bc-4c95-e047-ba9da5b3126d"
      },
      "source": [
        "sum_lst(lst1,lst2)"
      ],
      "execution_count": 107,
      "outputs": [
        {
          "output_type": "execute_result",
          "data": {
            "text/plain": [
              "[8, 10, 12, 14, 9, 11]"
            ]
          },
          "metadata": {
            "tags": []
          },
          "execution_count": 107
        }
      ]
    },
    {
      "cell_type": "code",
      "metadata": {
        "id": "JMkxdPmbyYZp"
      },
      "source": [
        ""
      ],
      "execution_count": 109,
      "outputs": []
    },
    {
      "cell_type": "code",
      "metadata": {
        "id": "yZj7bO6S2Rm6"
      },
      "source": [
        ""
      ],
      "execution_count": null,
      "outputs": []
    }
  ]
}