{
  "nbformat": 4,
  "nbformat_minor": 0,
  "metadata": {
    "colab": {
      "name": "0.2.ipynb",
      "provenance": [],
      "authorship_tag": "ABX9TyP5i0SnLuWxxXfZVDWTpIbv",
      "include_colab_link": true
    },
    "kernelspec": {
      "name": "python3",
      "display_name": "Python 3"
    }
  },
  "cells": [
    {
      "cell_type": "markdown",
      "metadata": {
        "id": "view-in-github",
        "colab_type": "text"
      },
      "source": [
        "<a href=\"https://colab.research.google.com/github/chandan-nagaraju/python/blob/main/0_2.ipynb\" target=\"_parent\"><img src=\"https://colab.research.google.com/assets/colab-badge.svg\" alt=\"Open In Colab\"/></a>"
      ]
    },
    {
      "cell_type": "code",
      "metadata": {
        "id": "JBT9Q8__o2AK"
      },
      "source": [
        "##complex literals\r\n",
        "x=1.0-2.0j"
      ],
      "execution_count": 1,
      "outputs": []
    },
    {
      "cell_type": "code",
      "metadata": {
        "colab": {
          "base_uri": "https://localhost:8080/"
        },
        "id": "jaxmInRyEZj0",
        "outputId": "7a3fbe1d-e7b9-4206-b007-9db0c8181acb"
      },
      "source": [
        "x"
      ],
      "execution_count": 2,
      "outputs": [
        {
          "output_type": "execute_result",
          "data": {
            "text/plain": [
              "(1-2j)"
            ]
          },
          "metadata": {
            "tags": []
          },
          "execution_count": 2
        }
      ]
    },
    {
      "cell_type": "code",
      "metadata": {
        "colab": {
          "base_uri": "https://localhost:8080/"
        },
        "id": "RT2E7J1mEZx5",
        "outputId": "7bce13ae-d9b0-4dd6-c316-76b537067ef4"
      },
      "source": [
        "print(x.real,x.imag)"
      ],
      "execution_count": 3,
      "outputs": [
        {
          "output_type": "stream",
          "text": [
            "1.0 -2.0\n"
          ],
          "name": "stdout"
        }
      ]
    },
    {
      "cell_type": "code",
      "metadata": {
        "colab": {
          "base_uri": "https://localhost:8080/"
        },
        "id": "7F_mnreAEZ0u",
        "outputId": "b5a4f241-7a7c-4049-8b77-3a7fcb10b2ab"
      },
      "source": [
        "x.conjugate()"
      ],
      "execution_count": 4,
      "outputs": [
        {
          "output_type": "execute_result",
          "data": {
            "text/plain": [
              "(1+2j)"
            ]
          },
          "metadata": {
            "tags": []
          },
          "execution_count": 4
        }
      ]
    },
    {
      "cell_type": "code",
      "metadata": {
        "colab": {
          "base_uri": "https://localhost:8080/"
        },
        "id": "4A5M9u_9EZ3w",
        "outputId": "b2a8c5ef-e6b8-4272-a770-35bf224caea2"
      },
      "source": [
        "x.conjugate()"
      ],
      "execution_count": 5,
      "outputs": [
        {
          "output_type": "execute_result",
          "data": {
            "text/plain": [
              "(1+2j)"
            ]
          },
          "metadata": {
            "tags": []
          },
          "execution_count": 5
        }
      ]
    },
    {
      "cell_type": "code",
      "metadata": {
        "colab": {
          "base_uri": "https://localhost:8080/"
        },
        "id": "aT1xdy5UEZ6g",
        "outputId": "74b73b89-49e1-456d-d18c-f23a7e1c898b"
      },
      "source": [
        "True is False"
      ],
      "execution_count": 6,
      "outputs": [
        {
          "output_type": "execute_result",
          "data": {
            "text/plain": [
              "False"
            ]
          },
          "metadata": {
            "tags": []
          },
          "execution_count": 6
        }
      ]
    },
    {
      "cell_type": "code",
      "metadata": {
        "id": "oIDb965iEZ9H"
      },
      "source": [
        "lst=list([1,2,3,4,5])"
      ],
      "execution_count": 7,
      "outputs": []
    },
    {
      "cell_type": "code",
      "metadata": {
        "colab": {
          "base_uri": "https://localhost:8080/"
        },
        "id": "VpOaJoFPEaAL",
        "outputId": "216f3e6e-c0dd-4427-c37e-272ca4db4cbf"
      },
      "source": [
        "lst"
      ],
      "execution_count": 8,
      "outputs": [
        {
          "output_type": "execute_result",
          "data": {
            "text/plain": [
              "[1, 2, 3, 4, 5]"
            ]
          },
          "metadata": {
            "tags": []
          },
          "execution_count": 8
        }
      ]
    },
    {
      "cell_type": "code",
      "metadata": {
        "colab": {
          "base_uri": "https://localhost:8080/"
        },
        "id": "jjcWWJUzEpFX",
        "outputId": "276533b3-500c-4fef-8a61-8a78a5d8d9df"
      },
      "source": [
        "#for loop\r\n",
        "i=7\r\n",
        "for c in range(i):\r\n",
        "    for j in range(c):\r\n",
        "        print('*', end=' ')\r\n",
        "    print('')\r\n",
        "    \r\n",
        "for c in range(i,0,-1):\r\n",
        "    for j in range(c):\r\n",
        "        print('*', end=' ')\r\n",
        "    print('')\r\n",
        "    "
      ],
      "execution_count": 9,
      "outputs": [
        {
          "output_type": "stream",
          "text": [
            "\n",
            "* \n",
            "* * \n",
            "* * * \n",
            "* * * * \n",
            "* * * * * \n",
            "* * * * * * \n",
            "* * * * * * * \n",
            "* * * * * * \n",
            "* * * * * \n",
            "* * * * \n",
            "* * * \n",
            "* * \n",
            "* \n"
          ],
          "name": "stdout"
        }
      ]
    },
    {
      "cell_type": "code",
      "metadata": {
        "colab": {
          "base_uri": "https://localhost:8080/"
        },
        "id": "irHRYtykEpIv",
        "outputId": "c9e5268c-695f-455d-b234-3e7cc05a3513"
      },
      "source": [
        "lst=[1,3,4,6,7,8,9,2,3,4,5]\r\n",
        "even_sum=0\r\n",
        "odd_sum=0\r\n",
        "for i in lst:\r\n",
        "    if i%2==0:\r\n",
        "        even_sum=even_sum+i   \r\n",
        "    else: \r\n",
        "        odd_sum=odd_sum+i\r\n",
        "print(\"even sum:\", even_sum)\r\n",
        "print(\"odd sum\", odd_sum)"
      ],
      "execution_count": 10,
      "outputs": [
        {
          "output_type": "stream",
          "text": [
            "even sum: 24\n",
            "odd sum 28\n"
          ],
          "name": "stdout"
        }
      ]
    },
    {
      "cell_type": "code",
      "metadata": {
        "id": "G62ru_rPEpMP"
      },
      "source": [
        "lst=[1,3,4,6,7]"
      ],
      "execution_count": 11,
      "outputs": []
    },
    {
      "cell_type": "code",
      "metadata": {
        "colab": {
          "base_uri": "https://localhost:8080/"
        },
        "id": "rAAWR1WUEpQO",
        "outputId": "3cb025a5-5e26-47be-da2b-ab1c0983207f"
      },
      "source": [
        "#for else\r\n",
        "sum1=0\r\n",
        "for i in lst:\r\n",
        "    if i==9:\r\n",
        "        break\r\n",
        "    sum1=sum1 +i\r\n",
        "else:\r\n",
        "    print(sum1)\r\n",
        "print(sum1)"
      ],
      "execution_count": 12,
      "outputs": [
        {
          "output_type": "stream",
          "text": [
            "21\n",
            "21\n"
          ],
          "name": "stdout"
        }
      ]
    },
    {
      "cell_type": "code",
      "metadata": {
        "colab": {
          "base_uri": "https://localhost:8080/"
        },
        "id": "oDCef6rdEpWk",
        "outputId": "50d2c501-54ee-4343-d01c-06f5f8edeb6a"
      },
      "source": [
        "even_sum=0\r\n",
        "odd_sum=0\r\n",
        "for i in lst:\r\n",
        "    if i%2==0:\r\n",
        "        even_sum+=i\r\n",
        "        if even_sum>20:\r\n",
        "            break\r\n",
        "    else :\r\n",
        "        odd_sum=odd_sum+i\r\n",
        "        if odd_sum>20:\r\n",
        "            break\r\n",
        "else:\r\n",
        "    print(even_sum)\r\n",
        "    print(odd_sum)\r\n",
        "        "
      ],
      "execution_count": 13,
      "outputs": [
        {
          "output_type": "stream",
          "text": [
            "10\n",
            "11\n"
          ],
          "name": "stdout"
        }
      ]
    },
    {
      "cell_type": "code",
      "metadata": {
        "colab": {
          "base_uri": "https://localhost:8080/"
        },
        "id": "Egnq5UPlEpe8",
        "outputId": "d7a94b90-b210-49fd-f78c-14bbf032ba0c"
      },
      "source": [
        "#while loop\r\n",
        "## sum of n elements\r\n",
        "n=10\r\n",
        "i=1\r\n",
        "even_sum=0\r\n",
        "odd_sum=0\r\n",
        "while i<=n:\r\n",
        "  if i %2==0:\r\n",
        "    even_sum=even_sum+i\r\n",
        "    \r\n",
        "  else:\r\n",
        "    odd_sum=odd_sum+i\r\n",
        "  i=i+1\r\n",
        "  \r\n",
        "print(even_sum)\r\n",
        "print(odd_sum)"
      ],
      "execution_count": 23,
      "outputs": [
        {
          "output_type": "stream",
          "text": [
            "30\n",
            "25\n"
          ],
          "name": "stdout"
        }
      ]
    },
    {
      "cell_type": "code",
      "metadata": {
        "id": "_HJazLs4EpjL"
      },
      "source": [
        "#range()"
      ],
      "execution_count": 24,
      "outputs": []
    },
    {
      "cell_type": "code",
      "metadata": {
        "colab": {
          "base_uri": "https://localhost:8080/"
        },
        "id": "fHQi_MuIEpnK",
        "outputId": "b4ed38f7-24bf-4064-cc44-bf0309d1ec8d"
      },
      "source": [
        "lst=(list(range(10)))\r\n",
        "lst"
      ],
      "execution_count": 28,
      "outputs": [
        {
          "output_type": "execute_result",
          "data": {
            "text/plain": [
              "[0, 1, 2, 3, 4, 5, 6, 7, 8, 9]"
            ]
          },
          "metadata": {
            "tags": []
          },
          "execution_count": 28
        }
      ]
    },
    {
      "cell_type": "code",
      "metadata": {
        "colab": {
          "base_uri": "https://localhost:8080/"
        },
        "id": "yI80VQiBEpsB",
        "outputId": "96a92027-163d-43b2-eb8b-c8354b21c44d"
      },
      "source": [
        "lt=list(range(4,40,2))\r\n",
        "lt"
      ],
      "execution_count": 30,
      "outputs": [
        {
          "output_type": "execute_result",
          "data": {
            "text/plain": [
              "[4, 6, 8, 10, 12, 14, 16, 18, 20, 22, 24, 26, 28, 30, 32, 34, 36, 38]"
            ]
          },
          "metadata": {
            "tags": []
          },
          "execution_count": 30
        }
      ]
    },
    {
      "cell_type": "code",
      "metadata": {
        "colab": {
          "base_uri": "https://localhost:8080/"
        },
        "id": "5ujItuk8IW9N",
        "outputId": "7867fba8-0bf1-4db7-ea8d-c2eb195932a4"
      },
      "source": [
        "lst1=list(range(100,0,-2))\r\n",
        "lst1"
      ],
      "execution_count": 32,
      "outputs": [
        {
          "output_type": "execute_result",
          "data": {
            "text/plain": [
              "[100,\n",
              " 98,\n",
              " 96,\n",
              " 94,\n",
              " 92,\n",
              " 90,\n",
              " 88,\n",
              " 86,\n",
              " 84,\n",
              " 82,\n",
              " 80,\n",
              " 78,\n",
              " 76,\n",
              " 74,\n",
              " 72,\n",
              " 70,\n",
              " 68,\n",
              " 66,\n",
              " 64,\n",
              " 62,\n",
              " 60,\n",
              " 58,\n",
              " 56,\n",
              " 54,\n",
              " 52,\n",
              " 50,\n",
              " 48,\n",
              " 46,\n",
              " 44,\n",
              " 42,\n",
              " 40,\n",
              " 38,\n",
              " 36,\n",
              " 34,\n",
              " 32,\n",
              " 30,\n",
              " 28,\n",
              " 26,\n",
              " 24,\n",
              " 22,\n",
              " 20,\n",
              " 18,\n",
              " 16,\n",
              " 14,\n",
              " 12,\n",
              " 10,\n",
              " 8,\n",
              " 6,\n",
              " 4,\n",
              " 2]"
            ]
          },
          "metadata": {
            "tags": []
          },
          "execution_count": 32
        }
      ]
    },
    {
      "cell_type": "code",
      "metadata": {
        "colab": {
          "base_uri": "https://localhost:8080/"
        },
        "id": "f0c3M971JFXC",
        "outputId": "49d093f9-383f-44c0-f25d-acd09435acf0"
      },
      "source": [
        "#continue statement\r\n",
        "for val in \"string\":\r\n",
        "  if val == 'i':\r\n",
        "    continue\r\n",
        "  print(val)\r\n",
        "print(\"the end\")"
      ],
      "execution_count": 35,
      "outputs": [
        {
          "output_type": "stream",
          "text": [
            "s\n",
            "t\n",
            "r\n",
            "n\n",
            "g\n",
            "the end\n"
          ],
          "name": "stdout"
        }
      ]
    },
    {
      "cell_type": "code",
      "metadata": {
        "colab": {
          "base_uri": "https://localhost:8080/",
          "height": 35
        },
        "id": "HaHbHYHMJMlE",
        "outputId": "086a970b-4a2f-4d2e-d9bc-5f46dcf3c7d7"
      },
      "source": [
        "#strings and list objects\r\n",
        "\"hello\""
      ],
      "execution_count": 37,
      "outputs": [
        {
          "output_type": "execute_result",
          "data": {
            "application/vnd.google.colaboratory.intrinsic+json": {
              "type": "string"
            },
            "text/plain": [
              "'hello'"
            ]
          },
          "metadata": {
            "tags": []
          },
          "execution_count": 37
        }
      ]
    },
    {
      "cell_type": "code",
      "metadata": {
        "colab": {
          "base_uri": "https://localhost:8080/",
          "height": 35
        },
        "id": "c_njRafHJxBE",
        "outputId": "a899dcba-2f69-4622-facc-9bd4503a4d3a"
      },
      "source": [
        "\"hello world\""
      ],
      "execution_count": 38,
      "outputs": [
        {
          "output_type": "execute_result",
          "data": {
            "application/vnd.google.colaboratory.intrinsic+json": {
              "type": "string"
            },
            "text/plain": [
              "'hello world'"
            ]
          },
          "metadata": {
            "tags": []
          },
          "execution_count": 38
        }
      ]
    },
    {
      "cell_type": "code",
      "metadata": {
        "colab": {
          "base_uri": "https://localhost:8080/"
        },
        "id": "6Z_58GepKWQt",
        "outputId": "02745714-99ec-4306-de10-edccb03d5bad"
      },
      "source": [
        "print('hello {}'.format(\"chandan\"))"
      ],
      "execution_count": 41,
      "outputs": [
        {
          "output_type": "stream",
          "text": [
            "hello chandan\n"
          ],
          "name": "stdout"
        }
      ]
    },
    {
      "cell_type": "code",
      "metadata": {
        "colab": {
          "base_uri": "https://localhost:8080/",
          "height": 35
        },
        "id": "CtoXRjWcKZLs",
        "outputId": "0ad5dbe4-483b-4054-c592-7263c9e2f9a5"
      },
      "source": [
        "#string indexing\r\n",
        "c=\"chandan nagaraj\"\r\n",
        "c[4]"
      ],
      "execution_count": 43,
      "outputs": [
        {
          "output_type": "execute_result",
          "data": {
            "application/vnd.google.colaboratory.intrinsic+json": {
              "type": "string"
            },
            "text/plain": [
              "'d'"
            ]
          },
          "metadata": {
            "tags": []
          },
          "execution_count": 43
        }
      ]
    },
    {
      "cell_type": "code",
      "metadata": {
        "colab": {
          "base_uri": "https://localhost:8080/",
          "height": 35
        },
        "id": "6Qj5Xa8XK4Mm",
        "outputId": "3af898ae-9395-4e5b-b045-db7a5f77953e"
      },
      "source": [
        "c[:]"
      ],
      "execution_count": 44,
      "outputs": [
        {
          "output_type": "execute_result",
          "data": {
            "application/vnd.google.colaboratory.intrinsic+json": {
              "type": "string"
            },
            "text/plain": [
              "'chandan nagaraj'"
            ]
          },
          "metadata": {
            "tags": []
          },
          "execution_count": 44
        }
      ]
    },
    {
      "cell_type": "code",
      "metadata": {
        "colab": {
          "base_uri": "https://localhost:8080/",
          "height": 35
        },
        "id": "I4S58UHMLD73",
        "outputId": "9915609c-7866-4f31-9f96-f115c5a52afb"
      },
      "source": [
        "c[::1]"
      ],
      "execution_count": 45,
      "outputs": [
        {
          "output_type": "execute_result",
          "data": {
            "application/vnd.google.colaboratory.intrinsic+json": {
              "type": "string"
            },
            "text/plain": [
              "'chandan nagaraj'"
            ]
          },
          "metadata": {
            "tags": []
          },
          "execution_count": 45
        }
      ]
    },
    {
      "cell_type": "code",
      "metadata": {
        "colab": {
          "base_uri": "https://localhost:8080/",
          "height": 35
        },
        "id": "mkpMqBOaLFb1",
        "outputId": "c439bd35-e0be-4bcf-b6aa-31759f60fcbe"
      },
      "source": [
        "c[::-1]"
      ],
      "execution_count": 46,
      "outputs": [
        {
          "output_type": "execute_result",
          "data": {
            "application/vnd.google.colaboratory.intrinsic+json": {
              "type": "string"
            },
            "text/plain": [
              "'jaragan nadnahc'"
            ]
          },
          "metadata": {
            "tags": []
          },
          "execution_count": 46
        }
      ]
    },
    {
      "cell_type": "code",
      "metadata": {
        "colab": {
          "base_uri": "https://localhost:8080/",
          "height": 35
        },
        "id": "aMF6v4vTLG9i",
        "outputId": "d3d5aef7-cbb6-4719-ee9e-29e7bfe93c39"
      },
      "source": [
        "c[:-7]"
      ],
      "execution_count": 49,
      "outputs": [
        {
          "output_type": "execute_result",
          "data": {
            "application/vnd.google.colaboratory.intrinsic+json": {
              "type": "string"
            },
            "text/plain": [
              "'chandan '"
            ]
          },
          "metadata": {
            "tags": []
          },
          "execution_count": 49
        }
      ]
    },
    {
      "cell_type": "code",
      "metadata": {
        "colab": {
          "base_uri": "https://localhost:8080/",
          "height": 35
        },
        "id": "uHbzY6SILOcV",
        "outputId": "a911cbf2-30b3-4b57-d1a2-8fe01a44cc54"
      },
      "source": [
        "c.capitalize()"
      ],
      "execution_count": 51,
      "outputs": [
        {
          "output_type": "execute_result",
          "data": {
            "application/vnd.google.colaboratory.intrinsic+json": {
              "type": "string"
            },
            "text/plain": [
              "'Chandan nagaraj'"
            ]
          },
          "metadata": {
            "tags": []
          },
          "execution_count": 51
        }
      ]
    },
    {
      "cell_type": "code",
      "metadata": {
        "colab": {
          "base_uri": "https://localhost:8080/",
          "height": 35
        },
        "id": "VDrraV6jML31",
        "outputId": "1520e60c-98d9-48ff-d6f4-ff56a38fe2eb"
      },
      "source": [
        "c.casefold()"
      ],
      "execution_count": 52,
      "outputs": [
        {
          "output_type": "execute_result",
          "data": {
            "application/vnd.google.colaboratory.intrinsic+json": {
              "type": "string"
            },
            "text/plain": [
              "'chandan nagaraj'"
            ]
          },
          "metadata": {
            "tags": []
          },
          "execution_count": 52
        }
      ]
    },
    {
      "cell_type": "code",
      "metadata": {
        "colab": {
          "base_uri": "https://localhost:8080/",
          "height": 35
        },
        "id": "C3zxiUBHMQp6",
        "outputId": "36d92559-584f-44c2-f0ca-bcb0239bedee"
      },
      "source": [
        "c.upper()"
      ],
      "execution_count": 58,
      "outputs": [
        {
          "output_type": "execute_result",
          "data": {
            "application/vnd.google.colaboratory.intrinsic+json": {
              "type": "string"
            },
            "text/plain": [
              "'CHANDAN NAGARAJ'"
            ]
          },
          "metadata": {
            "tags": []
          },
          "execution_count": 58
        }
      ]
    },
    {
      "cell_type": "code",
      "metadata": {
        "colab": {
          "base_uri": "https://localhost:8080/"
        },
        "id": "lL2bEk8uMTYL",
        "outputId": "82ce8e4d-05b5-4f01-f5ab-d6488370ad9b"
      },
      "source": [
        "c.isalpha()"
      ],
      "execution_count": 59,
      "outputs": [
        {
          "output_type": "execute_result",
          "data": {
            "text/plain": [
              "False"
            ]
          },
          "metadata": {
            "tags": []
          },
          "execution_count": 59
        }
      ]
    },
    {
      "cell_type": "code",
      "metadata": {
        "colab": {
          "base_uri": "https://localhost:8080/"
        },
        "id": "h0DJxjVbMps2",
        "outputId": "dd76ed36-ec7d-44a5-c334-1b27d25cfdfe"
      },
      "source": [
        "c.endswith('j')"
      ],
      "execution_count": 60,
      "outputs": [
        {
          "output_type": "execute_result",
          "data": {
            "text/plain": [
              "True"
            ]
          },
          "metadata": {
            "tags": []
          },
          "execution_count": 60
        }
      ]
    },
    {
      "cell_type": "code",
      "metadata": {
        "colab": {
          "base_uri": "https://localhost:8080/"
        },
        "id": "bf3O8Hw3Pfyr",
        "outputId": "25c68b08-46e9-4a54-8bb5-99155bf396f5"
      },
      "source": [
        "c.find('n')"
      ],
      "execution_count": 82,
      "outputs": [
        {
          "output_type": "execute_result",
          "data": {
            "text/plain": [
              "3"
            ]
          },
          "metadata": {
            "tags": []
          },
          "execution_count": 82
        }
      ]
    },
    {
      "cell_type": "code",
      "metadata": {
        "colab": {
          "base_uri": "https://localhost:8080/"
        },
        "id": "qBNXavGDMvL4",
        "outputId": "737b6f01-934d-4618-c3ed-721cf1e05aa4"
      },
      "source": [
        "c.count('n')"
      ],
      "execution_count": 62,
      "outputs": [
        {
          "output_type": "execute_result",
          "data": {
            "text/plain": [
              "3"
            ]
          },
          "metadata": {
            "tags": []
          },
          "execution_count": 62
        }
      ]
    },
    {
      "cell_type": "code",
      "metadata": {
        "colab": {
          "base_uri": "https://localhost:8080/",
          "height": 35
        },
        "id": "GDiNIFknNDPv",
        "outputId": "38fe9191-6251-4b01-ec97-19c310ec1320"
      },
      "source": [
        "c.center(20,'v')"
      ],
      "execution_count": 64,
      "outputs": [
        {
          "output_type": "execute_result",
          "data": {
            "application/vnd.google.colaboratory.intrinsic+json": {
              "type": "string"
            },
            "text/plain": [
              "'vvchandan nagarajvvv'"
            ]
          },
          "metadata": {
            "tags": []
          },
          "execution_count": 64
        }
      ]
    },
    {
      "cell_type": "code",
      "metadata": {
        "colab": {
          "base_uri": "https://localhost:8080/",
          "height": 35
        },
        "id": "f7e2fuLQNNG2",
        "outputId": "e2ad191d-b4af-44d0-93ff-d81a2acb9d7a"
      },
      "source": [
        "'hello\\thi'.expandtabs()"
      ],
      "execution_count": 65,
      "outputs": [
        {
          "output_type": "execute_result",
          "data": {
            "application/vnd.google.colaboratory.intrinsic+json": {
              "type": "string"
            },
            "text/plain": [
              "'hello   hi'"
            ]
          },
          "metadata": {
            "tags": []
          },
          "execution_count": 65
        }
      ]
    },
    {
      "cell_type": "code",
      "metadata": {
        "colab": {
          "base_uri": "https://localhost:8080/"
        },
        "id": "A9DPlA-CNhcI",
        "outputId": "ef3c9c98-688c-4c1a-a1ba-16d8655cf949"
      },
      "source": [
        "c.isalnum()"
      ],
      "execution_count": 66,
      "outputs": [
        {
          "output_type": "execute_result",
          "data": {
            "text/plain": [
              "False"
            ]
          },
          "metadata": {
            "tags": []
          },
          "execution_count": 66
        }
      ]
    },
    {
      "cell_type": "code",
      "metadata": {
        "colab": {
          "base_uri": "https://localhost:8080/"
        },
        "id": "Z8FOQh9DNnFK",
        "outputId": "2614935a-c876-4cda-8e78-25a4350926c1"
      },
      "source": [
        "c.isalpha()"
      ],
      "execution_count": 67,
      "outputs": [
        {
          "output_type": "execute_result",
          "data": {
            "text/plain": [
              "False"
            ]
          },
          "metadata": {
            "tags": []
          },
          "execution_count": 67
        }
      ]
    },
    {
      "cell_type": "code",
      "metadata": {
        "colab": {
          "base_uri": "https://localhost:8080/"
        },
        "id": "lMlAespGNpuI",
        "outputId": "6a9cb4f7-b20b-4b08-a75c-f3ff47b2df08"
      },
      "source": [
        "c.isnumeric()"
      ],
      "execution_count": 69,
      "outputs": [
        {
          "output_type": "execute_result",
          "data": {
            "text/plain": [
              "False"
            ]
          },
          "metadata": {
            "tags": []
          },
          "execution_count": 69
        }
      ]
    },
    {
      "cell_type": "code",
      "metadata": {
        "id": "kcCp647_NvsT"
      },
      "source": [
        "s='chandan'\r\n"
      ],
      "execution_count": 70,
      "outputs": []
    },
    {
      "cell_type": "code",
      "metadata": {
        "colab": {
          "base_uri": "https://localhost:8080/"
        },
        "id": "OcQXLi7SODtS",
        "outputId": "84585828-0a78-4648-d688-dac16ed95e56"
      },
      "source": [
        "s.isalpha()"
      ],
      "execution_count": 72,
      "outputs": [
        {
          "output_type": "execute_result",
          "data": {
            "text/plain": [
              "True"
            ]
          },
          "metadata": {
            "tags": []
          },
          "execution_count": 72
        }
      ]
    },
    {
      "cell_type": "code",
      "metadata": {
        "colab": {
          "base_uri": "https://localhost:8080/",
          "height": 35
        },
        "id": "fzzGvbY7OFLN",
        "outputId": "45428b88-6c8b-44e3-81de-fddd3c489201"
      },
      "source": [
        "s.capitalize()"
      ],
      "execution_count": 73,
      "outputs": [
        {
          "output_type": "execute_result",
          "data": {
            "application/vnd.google.colaboratory.intrinsic+json": {
              "type": "string"
            },
            "text/plain": [
              "'Chandan'"
            ]
          },
          "metadata": {
            "tags": []
          },
          "execution_count": 73
        }
      ]
    },
    {
      "cell_type": "code",
      "metadata": {
        "id": "jmCbX66pOK_y"
      },
      "source": [
        "#lists\r\n",
        "lst=[1,2,3,4,5,6,7]"
      ],
      "execution_count": 74,
      "outputs": []
    },
    {
      "cell_type": "code",
      "metadata": {
        "id": "7RaTMeziOW4F"
      },
      "source": [
        "lst.append(4)"
      ],
      "execution_count": 76,
      "outputs": []
    },
    {
      "cell_type": "code",
      "metadata": {
        "colab": {
          "base_uri": "https://localhost:8080/"
        },
        "id": "NGcFajIaOaTs",
        "outputId": "77f29039-efbf-435c-cfb4-bd36db769d78"
      },
      "source": [
        "lst.sort()\r\n",
        "lst"
      ],
      "execution_count": 79,
      "outputs": [
        {
          "output_type": "execute_result",
          "data": {
            "text/plain": [
              "[1, 2, 3, 4, 4, 5, 6, 7]"
            ]
          },
          "metadata": {
            "tags": []
          },
          "execution_count": 79
        }
      ]
    },
    {
      "cell_type": "code",
      "metadata": {
        "colab": {
          "base_uri": "https://localhost:8080/"
        },
        "id": "xzxlcDysOjv0",
        "outputId": "762c2958-706a-4b48-f379-ebc41f731f42"
      },
      "source": [
        "lst.remove(4)\r\n",
        "lst"
      ],
      "execution_count": 81,
      "outputs": [
        {
          "output_type": "execute_result",
          "data": {
            "text/plain": [
              "[1, 2, 3, 5, 6, 7]"
            ]
          },
          "metadata": {
            "tags": []
          },
          "execution_count": 81
        }
      ]
    },
    {
      "cell_type": "code",
      "metadata": {
        "id": "JjsKxHlROu9D"
      },
      "source": [
        ""
      ],
      "execution_count": null,
      "outputs": []
    }
  ]
}
