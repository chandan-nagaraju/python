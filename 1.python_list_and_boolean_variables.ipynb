{
  "nbformat": 4,
  "nbformat_minor": 0,
  "metadata": {
    "colab": {
      "name": "1.python list and boolean variables.ipynb",
      "provenance": [],
      "authorship_tag": "ABX9TyOek/k429T47iUI2OsSA/vh",
      "include_colab_link": true
    },
    "kernelspec": {
      "name": "python3",
      "display_name": "Python 3"
    }
  },
  "cells": [
    {
      "cell_type": "markdown",
      "metadata": {
        "id": "view-in-github",
        "colab_type": "text"
      },
      "source": [
        "<a href=\"https://colab.research.google.com/github/chandan-nagaraju/python/blob/main/1_python_list_and_boolean_variables.ipynb\" target=\"_parent\"><img src=\"https://colab.research.google.com/assets/colab-badge.svg\" alt=\"Open In Colab\"/></a>"
      ]
    },
    {
      "cell_type": "markdown",
      "metadata": {
        "id": "8-nAT2Cg1Zzw"
      },
      "source": [
        "# Python Data structures and boolean\r\n",
        "1.boolean                 \r\n",
        "\r\n",
        "2.boolean and logical operators\r\n",
        "\r\n",
        "3.lists\r\n",
        "\r\n",
        "4.comparision operators\r\n",
        "\r\n",
        "5.dictionaries\r\n",
        "\r\n",
        "6.tuples\r\n",
        "\r\n",
        "7.sets"
      ]
    },
    {
      "cell_type": "markdown",
      "metadata": {
        "id": "FrY0_yv31jn9"
      },
      "source": [
        "# Boolean variables\r\n",
        "boolean variables are two constant objects False and True."
      ]
    },
    {
      "cell_type": "code",
      "metadata": {
        "colab": {
          "base_uri": "https://localhost:8080/"
        },
        "id": "-OthR37P1fqp",
        "outputId": "517a3993-0777-45d3-a592-129fb1c69f2b"
      },
      "source": [
        "True"
      ],
      "execution_count": null,
      "outputs": [
        {
          "output_type": "execute_result",
          "data": {
            "text/plain": [
              "True"
            ]
          },
          "metadata": {
            "tags": []
          },
          "execution_count": 4
        }
      ]
    },
    {
      "cell_type": "code",
      "metadata": {
        "colab": {
          "base_uri": "https://localhost:8080/"
        },
        "id": "NG2cNQKd1xpu",
        "outputId": "c2605f1d-13ab-4059-9eea-9cf6c8aa51eb"
      },
      "source": [
        "False"
      ],
      "execution_count": null,
      "outputs": [
        {
          "output_type": "execute_result",
          "data": {
            "text/plain": [
              "False"
            ]
          },
          "metadata": {
            "tags": []
          },
          "execution_count": 5
        }
      ]
    },
    {
      "cell_type": "code",
      "metadata": {
        "colab": {
          "base_uri": "https://localhost:8080/"
        },
        "id": "N0k4gm151z9J",
        "outputId": "1a00e7d1-9733-4be8-e3a5-10aca43fdaad"
      },
      "source": [
        "type(bool)"
      ],
      "execution_count": null,
      "outputs": [
        {
          "output_type": "execute_result",
          "data": {
            "text/plain": [
              "type"
            ]
          },
          "metadata": {
            "tags": []
          },
          "execution_count": 6
        }
      ]
    },
    {
      "cell_type": "code",
      "metadata": {
        "colab": {
          "base_uri": "https://localhost:8080/"
        },
        "id": "jz-25lNr12UR",
        "outputId": "df35e39a-e4dc-44bc-9668-a61550075bc8"
      },
      "source": [
        "type(True)"
      ],
      "execution_count": null,
      "outputs": [
        {
          "output_type": "execute_result",
          "data": {
            "text/plain": [
              "bool"
            ]
          },
          "metadata": {
            "tags": []
          },
          "execution_count": 7
        }
      ]
    },
    {
      "cell_type": "code",
      "metadata": {
        "id": "CUbcUOFJ159i"
      },
      "source": [
        "a=\"chandan\""
      ],
      "execution_count": null,
      "outputs": []
    },
    {
      "cell_type": "code",
      "metadata": {
        "colab": {
          "base_uri": "https://localhost:8080/"
        },
        "id": "9fjoW30C173m",
        "outputId": "de0e15ee-12f2-4895-8dd7-ad0aa42728fe"
      },
      "source": [
        "print(a.capitalize())\r\n",
        "print(a.isalnum())\r\n",
        "print(a.isalpha())\r\n",
        "print(a.istitle())\r\n",
        "print(a.endswith(\"n\"))\r\n",
        "print(a.startswith(\"c\"))"
      ],
      "execution_count": null,
      "outputs": [
        {
          "output_type": "stream",
          "text": [
            "Chandan\n",
            "True\n",
            "True\n",
            "False\n",
            "True\n",
            "True\n"
          ],
          "name": "stdout"
        }
      ]
    },
    {
      "cell_type": "code",
      "metadata": {
        "colab": {
          "base_uri": "https://localhost:8080/",
          "height": 35
        },
        "id": "Bl7cYJg42Tlb",
        "outputId": "50ef4f99-ee22-4a6b-d953-f383ae136a50"
      },
      "source": [
        "a.upper()"
      ],
      "execution_count": null,
      "outputs": [
        {
          "output_type": "execute_result",
          "data": {
            "application/vnd.google.colaboratory.intrinsic+json": {
              "type": "string"
            },
            "text/plain": [
              "'CHANDAN'"
            ]
          },
          "metadata": {
            "tags": []
          },
          "execution_count": 10
        }
      ]
    },
    {
      "cell_type": "code",
      "metadata": {
        "colab": {
          "base_uri": "https://localhost:8080/",
          "height": 35
        },
        "id": "cHF-PUc52b2t",
        "outputId": "9812cf6c-0c78-456e-a9d9-372045e5211c"
      },
      "source": [
        "a.lower()"
      ],
      "execution_count": null,
      "outputs": [
        {
          "output_type": "execute_result",
          "data": {
            "application/vnd.google.colaboratory.intrinsic+json": {
              "type": "string"
            },
            "text/plain": [
              "'chandan'"
            ]
          },
          "metadata": {
            "tags": []
          },
          "execution_count": 11
        }
      ]
    },
    {
      "cell_type": "markdown",
      "metadata": {
        "id": "zNee_SRX2zLC"
      },
      "source": [
        "# Boolean and logical operator"
      ]
    },
    {
      "cell_type": "code",
      "metadata": {
        "id": "b58PPu2r2dhD"
      },
      "source": [
        " b=\"hello world\""
      ],
      "execution_count": null,
      "outputs": []
    },
    {
      "cell_type": "code",
      "metadata": {
        "colab": {
          "base_uri": "https://localhost:8080/"
        },
        "id": "TCjIzDRh28Js",
        "outputId": "d4ae2a03-acaf-4a67-9173-e6bf9c65f8bf"
      },
      "source": [
        "True and False"
      ],
      "execution_count": null,
      "outputs": [
        {
          "output_type": "execute_result",
          "data": {
            "text/plain": [
              "False"
            ]
          },
          "metadata": {
            "tags": []
          },
          "execution_count": 13
        }
      ]
    },
    {
      "cell_type": "code",
      "metadata": {
        "colab": {
          "base_uri": "https://localhost:8080/"
        },
        "id": "ZNqOrfA02-Q3",
        "outputId": "1c373240-ae81-43ef-9909-175099bcdb70"
      },
      "source": [
        "True and True"
      ],
      "execution_count": null,
      "outputs": [
        {
          "output_type": "execute_result",
          "data": {
            "text/plain": [
              "True"
            ]
          },
          "metadata": {
            "tags": []
          },
          "execution_count": 14
        }
      ]
    },
    {
      "cell_type": "code",
      "metadata": {
        "colab": {
          "base_uri": "https://localhost:8080/"
        },
        "id": "eMZQJGc43Aav",
        "outputId": "7fee6ec9-0a60-43e4-cda8-c6e5fd7f2c20"
      },
      "source": [
        "a.isalpha() or b.isalnum()"
      ],
      "execution_count": null,
      "outputs": [
        {
          "output_type": "execute_result",
          "data": {
            "text/plain": [
              "True"
            ]
          },
          "metadata": {
            "tags": []
          },
          "execution_count": 16
        }
      ]
    },
    {
      "cell_type": "markdown",
      "metadata": {
        "id": "Fzxuediq3OII"
      },
      "source": [
        "# lists\r\n",
        "a list is a data structure in python that is a mutable, ordered sequence of element.\r\n",
        "each element that is inside the list is called as an item\r\n"
      ]
    },
    {
      "cell_type": "code",
      "metadata": {
        "id": "_sWmhJKk3Jmy"
      },
      "source": [
        "c=[1,2,3,4,5]"
      ],
      "execution_count": null,
      "outputs": []
    },
    {
      "cell_type": "code",
      "metadata": {
        "colab": {
          "base_uri": "https://localhost:8080/"
        },
        "id": "1XZ_1B-O3uw6",
        "outputId": "6a553e9e-1345-4f46-8d21-d77b680c59fe"
      },
      "source": [
        "type(c)"
      ],
      "execution_count": null,
      "outputs": [
        {
          "output_type": "execute_result",
          "data": {
            "text/plain": [
              "list"
            ]
          },
          "metadata": {
            "tags": []
          },
          "execution_count": 18
        }
      ]
    },
    {
      "cell_type": "code",
      "metadata": {
        "id": "qsOb9cmd3wLc"
      },
      "source": [
        "d=list()"
      ],
      "execution_count": null,
      "outputs": []
    },
    {
      "cell_type": "code",
      "metadata": {
        "colab": {
          "base_uri": "https://localhost:8080/"
        },
        "id": "YvndFKxm3zSZ",
        "outputId": "e9373657-5e59-422d-f908-fc746cd3053f"
      },
      "source": [
        "type(d)"
      ],
      "execution_count": null,
      "outputs": [
        {
          "output_type": "execute_result",
          "data": {
            "text/plain": [
              "list"
            ]
          },
          "metadata": {
            "tags": []
          },
          "execution_count": 25
        }
      ]
    },
    {
      "cell_type": "code",
      "metadata": {
        "id": "5XZUFl-P37Gi"
      },
      "source": [
        "d=[\"maths\", \"chemistry\",120,130,140]"
      ],
      "execution_count": null,
      "outputs": []
    },
    {
      "cell_type": "markdown",
      "metadata": {
        "id": "LlKn4PCj4-sk"
      },
      "source": [
        "#Append\r\n"
      ]
    },
    {
      "cell_type": "code",
      "metadata": {
        "id": "8w3CjxVt37zy"
      },
      "source": [
        "d.append(135)"
      ],
      "execution_count": null,
      "outputs": []
    },
    {
      "cell_type": "code",
      "metadata": {
        "colab": {
          "base_uri": "https://localhost:8080/"
        },
        "id": "cnQlVWvf4eNf",
        "outputId": "3f885d22-7d6a-4141-be0c-16f0404e2021"
      },
      "source": [
        "d"
      ],
      "execution_count": null,
      "outputs": [
        {
          "output_type": "execute_result",
          "data": {
            "text/plain": [
              "['maths', 'chemistry', 120, 130, 140, 135]"
            ]
          },
          "metadata": {
            "tags": []
          },
          "execution_count": 28
        }
      ]
    },
    {
      "cell_type": "code",
      "metadata": {
        "id": "DpZsnzCx4e02"
      },
      "source": [
        "d.append(\"chandan\")"
      ],
      "execution_count": null,
      "outputs": []
    },
    {
      "cell_type": "code",
      "metadata": {
        "colab": {
          "base_uri": "https://localhost:8080/"
        },
        "id": "zlF6mstf4guT",
        "outputId": "e6bb87fe-b7ed-4475-cbb4-fd0ed4865b9c"
      },
      "source": [
        "d"
      ],
      "execution_count": null,
      "outputs": [
        {
          "output_type": "execute_result",
          "data": {
            "text/plain": [
              "['maths', 'chemistry', 120, 130, 140, 135, 'chandan']"
            ]
          },
          "metadata": {
            "tags": []
          },
          "execution_count": 33
        }
      ]
    },
    {
      "cell_type": "code",
      "metadata": {
        "id": "rjSz7WG44iCw"
      },
      "source": [
        ""
      ],
      "execution_count": null,
      "outputs": []
    },
    {
      "cell_type": "markdown",
      "metadata": {
        "id": "zB-39Ahk42S0"
      },
      "source": [
        "# insert\r\n",
        "elements can be added using index values"
      ]
    },
    {
      "cell_type": "code",
      "metadata": {
        "id": "O7nxf-RH45hU"
      },
      "source": [
        "d.insert(1,4)"
      ],
      "execution_count": null,
      "outputs": []
    },
    {
      "cell_type": "code",
      "metadata": {
        "colab": {
          "base_uri": "https://localhost:8080/"
        },
        "id": "XTQKb9Hm47om",
        "outputId": "9654ff11-ecdf-4bb4-fce8-7351103d6a99"
      },
      "source": [
        "d"
      ],
      "execution_count": null,
      "outputs": [
        {
          "output_type": "execute_result",
          "data": {
            "text/plain": [
              "['maths', 4, 'chemistry', 120, 130, 140, 135, 'chandan']"
            ]
          },
          "metadata": {
            "tags": []
          },
          "execution_count": 35
        }
      ]
    },
    {
      "cell_type": "markdown",
      "metadata": {
        "id": "lUStqqvN6VhN"
      },
      "source": [
        "# Extend"
      ]
    },
    {
      "cell_type": "code",
      "metadata": {
        "id": "vOpGq2kX48fv"
      },
      "source": [
        "d.extend([8,9])"
      ],
      "execution_count": null,
      "outputs": []
    },
    {
      "cell_type": "code",
      "metadata": {
        "colab": {
          "base_uri": "https://localhost:8080/"
        },
        "id": "AQYF4HoO6k4O",
        "outputId": "8375031f-70be-4ea4-ca49-153d238dea72"
      },
      "source": [
        "d"
      ],
      "execution_count": null,
      "outputs": [
        {
          "output_type": "execute_result",
          "data": {
            "text/plain": [
              "['maths', 4, 'chemistry', 120, 130, 140, 135, 'chandan', 8, 9]"
            ]
          },
          "metadata": {
            "tags": []
          },
          "execution_count": 37
        }
      ]
    },
    {
      "cell_type": "code",
      "metadata": {
        "id": "1J4F6k8q6lhI"
      },
      "source": [
        "e=[1,4,6,12,16,18]"
      ],
      "execution_count": null,
      "outputs": []
    },
    {
      "cell_type": "markdown",
      "metadata": {
        "id": "JydxUcq_6_n0"
      },
      "source": [
        "# pop()\r\n",
        "it removes the elements in the list\r\n"
      ]
    },
    {
      "cell_type": "code",
      "metadata": {
        "colab": {
          "base_uri": "https://localhost:8080/"
        },
        "id": "so6XISAO60Hb",
        "outputId": "603cff9e-45ad-4217-fc66-1e95f766932d"
      },
      "source": [
        "e.pop()"
      ],
      "execution_count": null,
      "outputs": [
        {
          "output_type": "execute_result",
          "data": {
            "text/plain": [
              "18"
            ]
          },
          "metadata": {
            "tags": []
          },
          "execution_count": 41
        }
      ]
    },
    {
      "cell_type": "code",
      "metadata": {
        "colab": {
          "base_uri": "https://localhost:8080/"
        },
        "id": "N2mTFLVN7E-z",
        "outputId": "723d301d-84fe-41ea-913b-97a25b9c0211"
      },
      "source": [
        "e.pop(3)"
      ],
      "execution_count": null,
      "outputs": [
        {
          "output_type": "execute_result",
          "data": {
            "text/plain": [
              "12"
            ]
          },
          "metadata": {
            "tags": []
          },
          "execution_count": 42
        }
      ]
    },
    {
      "cell_type": "code",
      "metadata": {
        "colab": {
          "base_uri": "https://localhost:8080/"
        },
        "id": "mkPUfeVq7Ntm",
        "outputId": "874b6ac1-70e8-4774-e55e-fd5f534efeb6"
      },
      "source": [
        "e"
      ],
      "execution_count": null,
      "outputs": [
        {
          "output_type": "execute_result",
          "data": {
            "text/plain": [
              "[1, 4, 6, 16]"
            ]
          },
          "metadata": {
            "tags": []
          },
          "execution_count": 43
        }
      ]
    },
    {
      "cell_type": "markdown",
      "metadata": {
        "id": "I0KYX3w97oan"
      },
      "source": [
        "# Index \r\n",
        "helps to find the in list based on index values"
      ]
    },
    {
      "cell_type": "code",
      "metadata": {
        "colab": {
          "base_uri": "https://localhost:8080/"
        },
        "id": "OGRu6K1K7O0E",
        "outputId": "a24ce453-1fce-4f3f-89bf-4026c1e7e6d6"
      },
      "source": [
        "e.count(8)"
      ],
      "execution_count": null,
      "outputs": [
        {
          "output_type": "execute_result",
          "data": {
            "text/plain": [
              "0"
            ]
          },
          "metadata": {
            "tags": []
          },
          "execution_count": 47
        }
      ]
    },
    {
      "cell_type": "code",
      "metadata": {
        "colab": {
          "base_uri": "https://localhost:8080/"
        },
        "id": "24eOFVm27RSQ",
        "outputId": "01caec88-7a2a-4b76-c548-e1715d236f27"
      },
      "source": [
        "e.index(6,1,4)"
      ],
      "execution_count": null,
      "outputs": [
        {
          "output_type": "execute_result",
          "data": {
            "text/plain": [
              "2"
            ]
          },
          "metadata": {
            "tags": []
          },
          "execution_count": 49
        }
      ]
    },
    {
      "cell_type": "markdown",
      "metadata": {
        "id": "ZJ5UD6yb7znl"
      },
      "source": [
        "# Min & max "
      ]
    },
    {
      "cell_type": "code",
      "metadata": {
        "colab": {
          "base_uri": "https://localhost:8080/"
        },
        "id": "XLCz8dwX7fxz",
        "outputId": "b79bc0aa-67e1-4446-c0dd-25ba86ca3b25"
      },
      "source": [
        "min(e)"
      ],
      "execution_count": null,
      "outputs": [
        {
          "output_type": "execute_result",
          "data": {
            "text/plain": [
              "1"
            ]
          },
          "metadata": {
            "tags": []
          },
          "execution_count": 51
        }
      ]
    },
    {
      "cell_type": "code",
      "metadata": {
        "colab": {
          "base_uri": "https://localhost:8080/"
        },
        "id": "oG-GIqgp75T9",
        "outputId": "acb386c7-0ee2-42fc-a4d4-6630572237a9"
      },
      "source": [
        "max(e)"
      ],
      "execution_count": null,
      "outputs": [
        {
          "output_type": "execute_result",
          "data": {
            "text/plain": [
              "16"
            ]
          },
          "metadata": {
            "tags": []
          },
          "execution_count": 52
        }
      ]
    },
    {
      "cell_type": "code",
      "metadata": {
        "id": "h-KWNU8y782C"
      },
      "source": [
        ""
      ],
      "execution_count": null,
      "outputs": []
    }
  ]
}
