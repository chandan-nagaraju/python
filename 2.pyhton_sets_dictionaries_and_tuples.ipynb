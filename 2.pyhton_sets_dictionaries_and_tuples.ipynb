{
  "nbformat": 4,
  "nbformat_minor": 0,
  "metadata": {
    "colab": {
      "name": "2.pyhton sets dictionaries and tuples.ipynb",
      "provenance": [],
      "authorship_tag": "ABX9TyNrw6bLMC5iZExG2zUrsOsc",
      "include_colab_link": true
    },
    "kernelspec": {
      "name": "python3",
      "display_name": "Python 3"
    }
  },
  "cells": [
    {
      "cell_type": "markdown",
      "metadata": {
        "id": "view-in-github",
        "colab_type": "text"
      },
      "source": [
        "<a href=\"https://colab.research.google.com/github/chandan-nagaraju/python/blob/main/2_pyhton_sets_dictionaries_and_tuples.ipynb\" target=\"_parent\"><img src=\"https://colab.research.google.com/assets/colab-badge.svg\" alt=\"Open In Colab\"/></a>"
      ]
    },
    {
      "cell_type": "markdown",
      "metadata": {
        "id": "FDpoBMpKAs2F"
      },
      "source": [
        "# Sets\r\n",
        "a set is an unordered collection of data's that is iterable, mutable and it has no duplicate elements.\r\n"
      ]
    },
    {
      "cell_type": "code",
      "metadata": {
        "colab": {
          "base_uri": "https://localhost:8080/"
        },
        "id": "o_uhvlU9BP4l",
        "outputId": "9b3b4996-cb0e-4d5b-b81c-047bc0fa5a6a"
      },
      "source": [
        "##defining empty sets\r\n",
        "set_1=set()\r\n",
        "type(set_1)"
      ],
      "execution_count": null,
      "outputs": [
        {
          "output_type": "execute_result",
          "data": {
            "text/plain": [
              "set"
            ]
          },
          "metadata": {
            "tags": []
          },
          "execution_count": 2
        }
      ]
    },
    {
      "cell_type": "code",
      "metadata": {
        "colab": {
          "base_uri": "https://localhost:8080/"
        },
        "id": "YHIyyZSKBVcc",
        "outputId": "89819717-9d5e-4c9f-c9fa-00c8303d2a50"
      },
      "source": [
        "set_1={\"bike\",\"car\", \"bus\"}\r\n",
        "print(set_1)\r\n",
        "print(type(set_1))"
      ],
      "execution_count": null,
      "outputs": [
        {
          "output_type": "stream",
          "text": [
            "{'car', 'bus', 'bike'}\n",
            "<class 'set'>\n"
          ],
          "name": "stdout"
        }
      ]
    },
    {
      "cell_type": "code",
      "metadata": {
        "id": "y08RhPxyB0sv"
      },
      "source": [
        "#set doesnot support indexing to reterive data \r\n",
        "#inbuilt function in sets\r\n",
        "set_1.add(\"hulk\") \r\n"
      ],
      "execution_count": null,
      "outputs": []
    },
    {
      "cell_type": "code",
      "metadata": {
        "colab": {
          "base_uri": "https://localhost:8080/"
        },
        "id": "afH0MirtEvLI",
        "outputId": "df70d71f-3e94-4cdf-cef9-404666030791"
      },
      "source": [
        "set_1"
      ],
      "execution_count": null,
      "outputs": [
        {
          "output_type": "execute_result",
          "data": {
            "text/plain": [
              "{'bike', 'bus', 'car', 'hulk'}"
            ]
          },
          "metadata": {
            "tags": []
          },
          "execution_count": 7
        }
      ]
    },
    {
      "cell_type": "code",
      "metadata": {
        "id": "xCybQlAvFBwc"
      },
      "source": [
        "set_2={'Car',\"bus\",\"bike\", \"lorry\"}"
      ],
      "execution_count": null,
      "outputs": []
    },
    {
      "cell_type": "code",
      "metadata": {
        "colab": {
          "base_uri": "https://localhost:8080/"
        },
        "id": "gBnnjjmCFLpW",
        "outputId": "816e6272-7789-4c38-b89c-e946f6d6d5b2"
      },
      "source": [
        "#differences\r\n",
        "print(set_1.difference(set_2))\r\n",
        "#intersection\r\n",
        "set_1.intersection(set_2)\r\n",
        "print(set_1)\r\n",
        "#union\r\n",
        "set_2.union(set_1)\r\n",
        "print(set_2)"
      ],
      "execution_count": null,
      "outputs": [
        {
          "output_type": "stream",
          "text": [
            "{'car', 'hulk'}\n",
            "{'car', 'hulk', 'bus', 'bike'}\n",
            "{'Car', 'bus', 'lorry', 'bike'}\n"
          ],
          "name": "stdout"
        }
      ]
    },
    {
      "cell_type": "markdown",
      "metadata": {
        "id": "JV_scfFNHWhI"
      },
      "source": [
        "# DICTIONARIES\r\n",
        "a dictionarry is a collection of keys and values.\r\n",
        "\r\n",
        "a dictionary can be unordered, changeable and indexed.\r\n"
      ]
    },
    {
      "cell_type": "code",
      "metadata": {
        "id": "_VkHlGLQFeOk"
      },
      "source": [
        "dic={}"
      ],
      "execution_count": null,
      "outputs": []
    },
    {
      "cell_type": "code",
      "metadata": {
        "colab": {
          "base_uri": "https://localhost:8080/"
        },
        "id": "1lwJheJxHe8n",
        "outputId": "9789b3cd-9428-4e1a-b3ed-d5549f36be50"
      },
      "source": [
        "type(dic)"
      ],
      "execution_count": null,
      "outputs": [
        {
          "output_type": "execute_result",
          "data": {
            "text/plain": [
              "dict"
            ]
          },
          "metadata": {
            "tags": []
          },
          "execution_count": 17
        }
      ]
    },
    {
      "cell_type": "code",
      "metadata": {
        "id": "YFpxS5ClHgZH"
      },
      "source": [
        "#defining a dictionary\r\n",
        "dict_1={\"bike1\":\"KTM\", \"bike2\":\"Royal enfield\", \"bike3\":\"R15\"}"
      ],
      "execution_count": null,
      "outputs": []
    },
    {
      "cell_type": "code",
      "metadata": {
        "colab": {
          "base_uri": "https://localhost:8080/"
        },
        "id": "mZG5g3fnIap7",
        "outputId": "110b3658-9e85-42f4-c70c-f191e2fcea41"
      },
      "source": [
        "dict_1"
      ],
      "execution_count": null,
      "outputs": [
        {
          "output_type": "execute_result",
          "data": {
            "text/plain": [
              "{'bike1': 'KTM', 'bike2': 'Royal enfield', 'bike3': 'R15'}"
            ]
          },
          "metadata": {
            "tags": []
          },
          "execution_count": 19
        }
      ]
    },
    {
      "cell_type": "code",
      "metadata": {
        "colab": {
          "base_uri": "https://localhost:8080/",
          "height": 35
        },
        "id": "BdyxfPFcI5KI",
        "outputId": "3fc2df9e-b332-428a-9923-fda6061d1dac"
      },
      "source": [
        "#accesing the items\r\n",
        "dict_1[\"bike1\"]"
      ],
      "execution_count": null,
      "outputs": [
        {
          "output_type": "execute_result",
          "data": {
            "application/vnd.google.colaboratory.intrinsic+json": {
              "type": "string"
            },
            "text/plain": [
              "'KTM'"
            ]
          },
          "metadata": {
            "tags": []
          },
          "execution_count": 23
        }
      ]
    },
    {
      "cell_type": "code",
      "metadata": {
        "id": "IV64NKdNIc2l"
      },
      "source": [
        "#defining an other key and values into dictionary\r\n",
        "dict_1[\"bike4\"]=\"FZ\""
      ],
      "execution_count": null,
      "outputs": []
    },
    {
      "cell_type": "code",
      "metadata": {
        "colab": {
          "base_uri": "https://localhost:8080/"
        },
        "id": "M0Wd7owWIkgJ",
        "outputId": "c6e9c1d8-d71a-4803-9050-1d69bd506939"
      },
      "source": [
        "dict_1"
      ],
      "execution_count": null,
      "outputs": [
        {
          "output_type": "execute_result",
          "data": {
            "text/plain": [
              "{'bike1': 'KTM', 'bike2': 'Royal enfield', 'bike3': 'R15', 'bike4': 'FZ'}"
            ]
          },
          "metadata": {
            "tags": []
          },
          "execution_count": 21
        }
      ]
    },
    {
      "cell_type": "code",
      "metadata": {
        "colab": {
          "base_uri": "https://localhost:8080/"
        },
        "id": "65Lmb-xzLFrN",
        "outputId": "c0efc9f7-f82c-42b4-e8b2-6b7dde1faa12"
      },
      "source": [
        "# writing a loop to find keys \r\n",
        "for x in dict_1.keys():\r\n",
        "  print(x)"
      ],
      "execution_count": null,
      "outputs": [
        {
          "output_type": "stream",
          "text": [
            "bike1\n",
            "bike2\n",
            "bike3\n",
            "bike4\n"
          ],
          "name": "stdout"
        }
      ]
    },
    {
      "cell_type": "code",
      "metadata": {
        "colab": {
          "base_uri": "https://localhost:8080/"
        },
        "id": "Ma75PcIaLic0",
        "outputId": "6fab008c-855d-4d7d-c0c1-b6ea326aafb9"
      },
      "source": [
        "#writing a loop to find values\r\n",
        "for x in dict_1.values():\r\n",
        "  print(x)"
      ],
      "execution_count": null,
      "outputs": [
        {
          "output_type": "stream",
          "text": [
            "KTM\n",
            "Royal enfield\n",
            "R15\n",
            "FZ\n"
          ],
          "name": "stdout"
        }
      ]
    },
    {
      "cell_type": "code",
      "metadata": {
        "colab": {
          "base_uri": "https://localhost:8080/"
        },
        "id": "uP7T9GJ9IlsD",
        "outputId": "b958d9ef-1ef6-4b12-b20f-195a8a77f564"
      },
      "source": [
        "#looping using dictionaries\r\n",
        "#to print both keys and values in dictionaries we should call items() included in it.\r\n",
        "for x, y in dict_1.items():\r\n",
        "  print(x.capitalize(),\":\",y.upper())"
      ],
      "execution_count": null,
      "outputs": [
        {
          "output_type": "stream",
          "text": [
            "Bike1 : KTM\n",
            "Bike2 : ROYAL ENFIELD\n",
            "Bike3 : R15\n",
            "Bike4 : FZ\n"
          ],
          "name": "stdout"
        }
      ]
    },
    {
      "cell_type": "markdown",
      "metadata": {
        "id": "DmxyCNSnMBRq"
      },
      "source": [
        "# NESTED DICTIONARIES"
      ]
    },
    {
      "cell_type": "code",
      "metadata": {
        "id": "reN4EEUMJqac"
      },
      "source": [
        "bike1_model={\"KTM\":\"2019\"}\r\n",
        "bike2_model={\"Royal enfield\":\"2018\"}\r\n",
        "bike3_model={\"R15\":\"2017\"}\r\n",
        "bike4_model={\"FZ\":\"2016\"}"
      ],
      "execution_count": null,
      "outputs": []
    },
    {
      "cell_type": "code",
      "metadata": {
        "id": "B9k3Es_JN_e0"
      },
      "source": [
        "bike_type={'bike1':bike1_model,\"bike2\":bike2_model,\"bike3\":bike3_model,\"bike4\":bike4_model}"
      ],
      "execution_count": null,
      "outputs": []
    },
    {
      "cell_type": "code",
      "metadata": {
        "colab": {
          "base_uri": "https://localhost:8080/"
        },
        "id": "G_DefNLCOUpE",
        "outputId": "9c07c62c-41df-4860-b2bc-ab2ce23dd7d2"
      },
      "source": [
        "print(bike_type)"
      ],
      "execution_count": null,
      "outputs": [
        {
          "output_type": "stream",
          "text": [
            "{'bike1': {'KTM': '2019'}, 'bike2': {'Royal enfield': '2018'}, 'bike3': {'R15': '2017'}, 'bike4': {'FZ': '2016'}}\n"
          ],
          "name": "stdout"
        }
      ]
    },
    {
      "cell_type": "code",
      "metadata": {
        "colab": {
          "base_uri": "https://localhost:8080/"
        },
        "id": "C2SD48vdOXZO",
        "outputId": "a9a62661-5289-41ed-a58d-cac293f8cc63"
      },
      "source": [
        "bike_type[\"bike1\"]"
      ],
      "execution_count": null,
      "outputs": [
        {
          "output_type": "execute_result",
          "data": {
            "text/plain": [
              "{'KTM': '2019'}"
            ]
          },
          "metadata": {
            "tags": []
          },
          "execution_count": 47
        }
      ]
    },
    {
      "cell_type": "code",
      "metadata": {
        "colab": {
          "base_uri": "https://localhost:8080/",
          "height": 35
        },
        "id": "GUCwU47cOc5s",
        "outputId": "63a47b4c-71de-4caf-a811-a71081862ff3"
      },
      "source": [
        "bike_type[\"bike1\"][\"KTM\"]"
      ],
      "execution_count": null,
      "outputs": [
        {
          "output_type": "execute_result",
          "data": {
            "application/vnd.google.colaboratory.intrinsic+json": {
              "type": "string"
            },
            "text/plain": [
              "'2019'"
            ]
          },
          "metadata": {
            "tags": []
          },
          "execution_count": 48
        }
      ]
    },
    {
      "cell_type": "markdown",
      "metadata": {
        "id": "bbN-zyTNWsAO"
      },
      "source": [
        "# COUNTER\r\n",
        "Special dictionary used for counting data, measuring\r\n",
        "frequency\r\n"
      ]
    },
    {
      "cell_type": "code",
      "metadata": {
        "id": "aNc6HS2aWTtk"
      },
      "source": [
        "from collections import Counter"
      ],
      "execution_count": 67,
      "outputs": []
    },
    {
      "cell_type": "code",
      "metadata": {
        "colab": {
          "base_uri": "https://localhost:8080/"
        },
        "id": "s_SLhB6ZWTqS",
        "outputId": "c0915317-6800-4769-df5d-604b9b76c05e"
      },
      "source": [
        "tuple_1"
      ],
      "execution_count": 69,
      "outputs": [
        {
          "output_type": "execute_result",
          "data": {
            "text/plain": [
              "[(1, 'red'), (2, 'blue'), (3, 'green'), (4, 'yellow'), (5, 'white')]"
            ]
          },
          "metadata": {
            "tags": []
          },
          "execution_count": 69
        }
      ]
    },
    {
      "cell_type": "code",
      "metadata": {
        "id": "QFppLK6fWTmb"
      },
      "source": [
        "count_1=Counter(tuple_1)"
      ],
      "execution_count": 70,
      "outputs": []
    },
    {
      "cell_type": "code",
      "metadata": {
        "colab": {
          "base_uri": "https://localhost:8080/"
        },
        "id": "2XSvBAh4WTjl",
        "outputId": "511426d3-9774-4865-c2d1-7424a7d08d19"
      },
      "source": [
        "count_1"
      ],
      "execution_count": 71,
      "outputs": [
        {
          "output_type": "execute_result",
          "data": {
            "text/plain": [
              "Counter({(1, 'red'): 1,\n",
              "         (2, 'blue'): 1,\n",
              "         (3, 'green'): 1,\n",
              "         (4, 'yellow'): 1,\n",
              "         (5, 'white'): 1})"
            ]
          },
          "metadata": {
            "tags": []
          },
          "execution_count": 71
        }
      ]
    },
    {
      "cell_type": "markdown",
      "metadata": {
        "id": "nKB4ylVrPBec"
      },
      "source": [
        "# Tuples\r\n",
        "tuples are opposite of lists\r\n",
        "\r\n",
        "its is immutable\r\n",
        "\r\n",
        "tuples hold data in order\r\n",
        "\r\n",
        "tuples are unpackable\r\n",
        "\r\n"
      ]
    },
    {
      "cell_type": "code",
      "metadata": {
        "id": "JGlGigaTOnue"
      },
      "source": [
        "list_1=[1,2,3,4,5]\r\n",
        "list_2=[\"red\",\"blue\",\"green\",\"yellow\",\"white\"]"
      ],
      "execution_count": null,
      "outputs": []
    },
    {
      "cell_type": "code",
      "metadata": {
        "id": "U7dBQpZdRC6Z"
      },
      "source": [
        "#zipping tuples : tuples are commonly created by zipping lists together with Zip()\r\n",
        "tuple_1= list(zip(list_1,list_2))"
      ],
      "execution_count": null,
      "outputs": []
    },
    {
      "cell_type": "code",
      "metadata": {
        "colab": {
          "base_uri": "https://localhost:8080/"
        },
        "id": "ipQSI7d1R_Ty",
        "outputId": "8af37f6b-641a-4df9-91b9-b18a39a0fd09"
      },
      "source": [
        "\r\n",
        "tuple_1"
      ],
      "execution_count": null,
      "outputs": [
        {
          "output_type": "execute_result",
          "data": {
            "text/plain": [
              "[(1, 'red'), (2, 'blue'), (3, 'green'), (4, 'yellow'), (5, 'white')]"
            ]
          },
          "metadata": {
            "tags": []
          },
          "execution_count": 60
        }
      ]
    },
    {
      "cell_type": "code",
      "metadata": {
        "colab": {
          "base_uri": "https://localhost:8080/"
        },
        "id": "i--Ub1G2SBQt",
        "outputId": "93a9f51b-02af-4f67-fd65-e03a9d6a3a99"
      },
      "source": [
        "#tuple_1 will be list\r\n",
        "type(tuple_1)"
      ],
      "execution_count": null,
      "outputs": [
        {
          "output_type": "execute_result",
          "data": {
            "text/plain": [
              "list"
            ]
          },
          "metadata": {
            "tags": []
          },
          "execution_count": 59
        }
      ]
    },
    {
      "cell_type": "code",
      "metadata": {
        "colab": {
          "base_uri": "https://localhost:8080/"
        },
        "id": "6ou883S6SHxf",
        "outputId": "7fa78013-bdc7-404b-cb61-b0c2745603bb"
      },
      "source": [
        "# elements inside the list of tuple_1 are tuple\r\n",
        "type(tuple_1[0])"
      ],
      "execution_count": null,
      "outputs": [
        {
          "output_type": "execute_result",
          "data": {
            "text/plain": [
              "tuple"
            ]
          },
          "metadata": {
            "tags": []
          },
          "execution_count": 62
        }
      ]
    },
    {
      "cell_type": "code",
      "metadata": {
        "colab": {
          "base_uri": "https://localhost:8080/"
        },
        "id": "QJkvgRDbSMic",
        "outputId": "4ee68d08-4c2b-476b-ee72-63efcef1daa3"
      },
      "source": [
        "#unpacking in tuple\r\n",
        "num,color=tuple_1[0]\r\n",
        "print(num)\r\n",
        "print(color)"
      ],
      "execution_count": null,
      "outputs": [
        {
          "output_type": "stream",
          "text": [
            "1\n",
            "red\n"
          ],
          "name": "stdout"
        }
      ]
    },
    {
      "cell_type": "code",
      "metadata": {
        "colab": {
          "base_uri": "https://localhost:8080/"
        },
        "id": "w09RkzuwS7z5",
        "outputId": "930cd89a-10f1-43c5-859d-f65332c688c0"
      },
      "source": [
        "#unpacking tuples using loops\r\n",
        "for num, color in tuple_1:\r\n",
        "  print(num)\r\n",
        "  print(color)"
      ],
      "execution_count": null,
      "outputs": [
        {
          "output_type": "stream",
          "text": [
            "1\n",
            "red\n",
            "2\n",
            "blue\n",
            "3\n",
            "green\n",
            "4\n",
            "yellow\n",
            "5\n",
            "white\n"
          ],
          "name": "stdout"
        }
      ]
    },
    {
      "cell_type": "markdown",
      "metadata": {
        "id": "slymtlhDTcXe"
      },
      "source": [
        "#Enumerating positions\r\n",
        "Another useful tuple creation method is the enumerate()\r\n",
        "function\r\n",
        "\r\n",
        "Enumeration is used in loops to return the position and the\r\n",
        "data in that position while looping"
      ]
    },
    {
      "cell_type": "code",
      "metadata": {
        "colab": {
          "base_uri": "https://localhost:8080/"
        },
        "id": "RE2eG8V3TOpu",
        "outputId": "a3a8666a-df90-4964-eee3-06fce4d2c5cf"
      },
      "source": [
        "for i, data in enumerate(tuple_1):\r\n",
        "  list_1, list_2 = data\r\n",
        "  print(i,list_1, list_2)"
      ],
      "execution_count": null,
      "outputs": [
        {
          "output_type": "stream",
          "text": [
            "0 1 red\n",
            "1 2 blue\n",
            "2 3 green\n",
            "3 4 yellow\n",
            "4 5 white\n"
          ],
          "name": "stdout"
        }
      ]
    },
    {
      "cell_type": "markdown",
      "metadata": {
        "id": "jQtaHjkcUAqf"
      },
      "source": [
        "*we can use zip(), enumerate() and () to make tuple"
      ]
    },
    {
      "cell_type": "code",
      "metadata": {
        "id": "3tC23KUBT5h1"
      },
      "source": [
        ""
      ],
      "execution_count": null,
      "outputs": []
    }
  ]
}
